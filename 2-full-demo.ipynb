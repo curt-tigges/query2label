{
 "cells": [
  {
   "cell_type": "markdown",
   "metadata": {},
   "source": [
    "### Data Prep"
   ]
  },
  {
   "cell_type": "code",
   "execution_count": 1,
   "metadata": {},
   "outputs": [],
   "source": [
    "img_data_dir = \"/media/curttigges/project-files/datasets/ms-coco/\""
   ]
  },
  {
   "cell_type": "markdown",
   "metadata": {},
   "source": [
    "### Models"
   ]
  },
  {
   "cell_type": "code",
   "execution_count": 2,
   "metadata": {},
   "outputs": [],
   "source": [
    "import torch\n",
    "import math\n",
    "import timm\n",
    "import torch.nn as nn\n",
    "from torchvision import models\n",
    "import torch.nn.functional as F\n",
    "import pytorch_lightning as pl\n",
    "import wandb\n",
    "\n",
    "from torch.optim.lr_scheduler import OneCycleLR\n",
    "from torchmetrics.functional import accuracy, precision\n",
    "import torchmetrics.functional as tf\n",
    "from pytorch_lightning.loggers import WandbLogger\n",
    "from pytorch_lightning.callbacks import TQDMProgressBar\n",
    "from pytorch_lightning.callbacks import StochasticWeightAveraging\n",
    "from positional_encodings.torch_encodings import PositionalEncodingPermute2D, Summer\n",
    "\n",
    "import data.coco_cat as cc\n",
    "from data.coco_data_module import COCODataModule\n",
    "from data.cutmix import CutMixCriterion\n",
    "from q2l_labeller.models.simple_asymmetric_loss import AsymmetricLoss"
   ]
  },
  {
   "cell_type": "code",
   "execution_count": 3,
   "metadata": {},
   "outputs": [],
   "source": [
    "class ResNetBackbone(nn.Module):\n",
    "    def __init__(self, model):\n",
    "        super().__init__()\n",
    "        self.resnet = model\n",
    "        del self.resnet.fc\n",
    "\n",
    "    def forward(self, x):\n",
    "        \n",
    "        out = self.resnet.conv1(x)\n",
    "        out = self.resnet.bn1(out)\n",
    "        out = self.resnet.relu(out)\n",
    "        out = self.resnet.maxpool(out)\n",
    "\n",
    "        out = self.resnet.layer1(out)\n",
    "        out = self.resnet.layer2(out)\n",
    "        out = self.resnet.layer3(out)\n",
    "        out = self.resnet.layer4(out)\n",
    "        \n",
    "        return out"
   ]
  },
  {
   "cell_type": "code",
   "execution_count": 4,
   "metadata": {},
   "outputs": [],
   "source": [
    "class TimmBackbone(nn.Module):\n",
    "    def __init__(self, model_name):\n",
    "        super().__init__()\n",
    "\n",
    "        # Creating the model in this way produces unpooled, unclassified features\n",
    "        self.model = timm.create_model(\n",
    "            model_name, \n",
    "            pretrained=True,\n",
    "            num_classes=0,\n",
    "            global_pool='')        \n",
    "\n",
    "    def forward(self, x):\n",
    "        \n",
    "        out = self.model(x)\n",
    "        \n",
    "        return out"
   ]
  },
  {
   "cell_type": "code",
   "execution_count": 5,
   "metadata": {},
   "outputs": [],
   "source": [
    "class Query2Label(nn.Module):\n",
    "    def __init__(\n",
    "        self, model, conv_out, num_classes, hidden_dim=256, nheads=8, \n",
    "        encoder_layers=6, decoder_layers=6, use_pos_encoding=False):\n",
    "        \n",
    "        super().__init__()\n",
    "\n",
    "        self.num_classes = num_classes\n",
    "        self.hidden_dim = hidden_dim\n",
    "        self.use_pos_encoding = use_pos_encoding\n",
    "\n",
    "        self.backbone = TimmBackbone(model) # outputs HW x \n",
    "        self.conv = nn.Conv2d(conv_out, hidden_dim, 1)\n",
    "        self.transformer = nn.Transformer(\n",
    "            hidden_dim, nheads, encoder_layers, decoder_layers)\n",
    "\n",
    "        # prediction head\n",
    "        self.classifier = nn.Linear(num_classes * hidden_dim, num_classes)\n",
    "\n",
    "        # label parameters\n",
    "        # TODO: Rename \n",
    "        self.query_pos = nn.Parameter(torch.rand(1, num_classes, hidden_dim))\n",
    "\n",
    "    def forward(self, x):\n",
    "        # produces output of shape [N x C x H x W]\n",
    "        out = self.backbone(x)\n",
    "        \n",
    "        # convert from 2048 to 256 feature planes for the transformer\n",
    "        h = self.conv(out)\n",
    "        B, C, H, W = h.shape\n",
    "\n",
    "        # add position encodings\n",
    "        if self.use_pos_encoding:\n",
    "            # returns the encoding object\n",
    "            pos_encoder = PositionalEncodingPermute2D(C)\n",
    "\n",
    "            # returns the summing object\n",
    "            encoding_adder = Summer(pos_encoder)\n",
    "\n",
    "            # input with encoding added\n",
    "            h = encoding_adder(x)\n",
    "\n",
    "        # convert h from [N x C x H x W] to [H*W x N x C] (N=batch size)\n",
    "        # this corresponds to the [SIZE x BATCH_SIZE x EMBED_DIM] dimensions \n",
    "        # that the transformer expects\n",
    "        h = h.flatten(2).permute(2, 0, 1)\n",
    "        \n",
    "        # image feature vector \"h\" is sent in after transformation above; we \n",
    "        # also convert query_pos from [1 x TARGET x (hidden)EMBED_SIZE] to \n",
    "        # [TARGET x BATCH_SIZE x (hidden)EMBED_SIZE]\n",
    "        query_pos = self.query_pos.repeat(B, 1, 1)\n",
    "        query_pos = query_pos.transpose(0, 1)\n",
    "        h = self.transformer(h, query_pos).transpose(0, 1)\n",
    "        \n",
    "        # output from transformer is of dim [TARGET x BATCH_SIZE x EMBED_SIZE];\n",
    "        # however, we transpose it to [BATCH_SIZE x TARGET x EMBED_SIZE] above\n",
    "        # and then take an average along the TARGET dimension.\n",
    "        #\n",
    "        # next, we project transformer outputs to class labels\n",
    "        #h = h.mean(1)\n",
    "        h = torch.reshape(h,(B, self.num_classes * self.hidden_dim))\n",
    "\n",
    "        return self.classifier(h)"
   ]
  },
  {
   "cell_type": "code",
   "execution_count": 6,
   "metadata": {},
   "outputs": [],
   "source": [
    "class Query2LabelTrainModule(pl.LightningModule):\n",
    "    def __init__(\n",
    "        self, data, backbone_desc, conv_out_dim, hidden_dim, num_encoders, \n",
    "        num_decoders, num_heads, batch_size, image_dim, learning_rate, \n",
    "        momentum, weight_decay, n_classes, thresh=0.5, use_cutmix=False,\n",
    "        use_pos_encoding=False, loss=\"BCE\"):\n",
    "        super().__init__()\n",
    "\n",
    "        # Key parameters\n",
    "        self.save_hyperparameters(ignore=['model','data'])\n",
    "        self.data = data\n",
    "        self.model = Query2Label(\n",
    "            model=backbone_desc, conv_out=conv_out_dim, num_classes=n_classes, \n",
    "            hidden_dim=hidden_dim, nheads=num_heads, encoder_layers=num_encoders, \n",
    "            decoder_layers=num_decoders, use_pos_encoding=use_pos_encoding)\n",
    "        if loss==\"BCE\":\n",
    "            self.base_criterion = nn.BCEWithLogitsLoss()\n",
    "        elif loss==\"ASL\":\n",
    "            self.base_criterion = AsymmetricLoss(gamma_neg=1, gamma_pos=1) \n",
    "        \n",
    "        self.criterion = CutMixCriterion(self.base_criterion)\n",
    "\n",
    "    def forward(self, x):\n",
    "        x = self.model(x)        \n",
    "        return x\n",
    "\n",
    "    def evaluate(self, batch, stage=None):\n",
    "        x, y = batch\n",
    "        y_hat = self(x)\n",
    "        loss = self.base_criterion(y_hat, y.type(torch.float))\n",
    "        \n",
    "        rmap = tf.retrieval_average_precision(y_hat, y.type(torch.int))\n",
    "\n",
    "        category_prec = precision(y_hat, y.type(torch.int), average='macro', num_classes=self.hparams.n_classes, threshold=self.hparams.thresh, multiclass=False)\n",
    "        category_recall = tf.recall(y_hat, y.type(torch.int), average='macro', num_classes=self.hparams.n_classes, threshold=self.hparams.thresh, multiclass=False)\n",
    "        category_f1 = tf.f1_score(y_hat, y.type(torch.int), average='macro', num_classes=self.hparams.n_classes, threshold=self.hparams.thresh, multiclass=False)\n",
    "\n",
    "        overall_prec = precision(y_hat, y.type(torch.int), threshold=self.hparams.thresh, multiclass=False)\n",
    "        overall_recall = tf.recall(y_hat, y.type(torch.int), threshold=self.hparams.thresh, multiclass=False)\n",
    "        overall_f1 = tf.f1_score(y_hat, y.type(torch.int), threshold=self.hparams.thresh, multiclass=False)\n",
    "        \n",
    "        \n",
    "        \n",
    "\n",
    "        if stage:\n",
    "            self.log(f\"{stage}_loss\", loss, prog_bar=True)\n",
    "            self.log(f\"{stage}_rmap\", rmap, prog_bar=True, on_step=False, on_epoch=True)\n",
    "\n",
    "            self.log(f\"{stage}_cat_prec\", category_prec, prog_bar=True)\n",
    "            self.log(f\"{stage}_cat_recall\", category_recall, prog_bar=True)\n",
    "            self.log(f\"{stage}_cat_f1\", category_f1, prog_bar=True)\n",
    "\n",
    "            self.log(f\"{stage}_ovr_prec\", overall_prec, prog_bar=True)\n",
    "            self.log(f\"{stage}_ovr_recall\", overall_recall, prog_bar=True)\n",
    "            self.log(f\"{stage}_ovr_f1\", overall_f1, prog_bar=True)\n",
    "            \n",
    "\n",
    "            # log prediction examples to wandb\n",
    "            '''\n",
    "            pred = self.model(x)\n",
    "            pred_keys = pred[0].sigmoid().tolist()\n",
    "            pred_keys = [0 if p < self.hparams.thresh else 1 for p in pred_keys]\n",
    "\n",
    "            \n",
    "            mapper = cc.COCOCategorizer()\n",
    "            pred_lbl = mapper.get_labels(pred_keys)\n",
    "            \n",
    "            try:\n",
    "                self.logger.experiment.log({\"val_pred_examples\": [wandb.Image(x[0], caption=pred_lbl)]})\n",
    "            except AttributeError:\n",
    "                pass\n",
    "            '''\n",
    "    \n",
    "    def training_step(self, batch, batch_idx):\n",
    "        if self.hparams.use_cutmix:\n",
    "            x, y = batch\n",
    "            y_hat = self(x)\n",
    "            #y1, y2, lam = y\n",
    "            loss = self.criterion(y_hat, y)\n",
    "\n",
    "        else:\n",
    "            x, y = batch\n",
    "            y_hat = self(x)\n",
    "            loss = self.base_criterion(y_hat, y.type(torch.float))\n",
    "        self.log(\"train_loss\", loss)\n",
    "        return loss\n",
    "\n",
    "    def validation_step(self, batch, batch_idx):\n",
    "        self.evaluate(batch, \"val\")\n",
    "\n",
    "    def test_step(self, batch, batch_idx):\n",
    "        self.evaluate(batch, \"test\")\n",
    "\n",
    "    def configure_optimizers(self):\n",
    "        optimizer = torch.optim.AdamW(\n",
    "            self.parameters(), \n",
    "            lr=self.hparams.learning_rate,\n",
    "            betas=(0.9,0.999),\n",
    "            weight_decay=self.hparams.weight_decay)\n",
    "        \n",
    "        lr_scheduler_dict = {\n",
    "            \"scheduler\":OneCycleLR(\n",
    "                optimizer,\n",
    "                self.hparams.learning_rate,\n",
    "                epochs=self.trainer.max_epochs,\n",
    "                steps_per_epoch=len(self.data.train_dataloader()),\n",
    "                anneal_strategy='cos'\n",
    "            ),\n",
    "            \"interval\":\"step\",\n",
    "        }\n",
    "        return {\"optimizer\":optimizer, \"lr_scheduler\":lr_scheduler_dict}\n",
    "        #return optimizer"
   ]
  },
  {
   "cell_type": "code",
   "execution_count": 7,
   "metadata": {},
   "outputs": [
    {
     "name": "stderr",
     "output_type": "stream",
     "text": [
      "Global seed set to 42\n"
     ]
    },
    {
     "data": {
      "text/plain": [
       "42"
      ]
     },
     "execution_count": 7,
     "metadata": {},
     "output_type": "execute_result"
    }
   ],
   "source": [
    "pl.seed_everything(42)"
   ]
  },
  {
   "cell_type": "code",
   "execution_count": 8,
   "metadata": {},
   "outputs": [],
   "source": [
    "param_dict = {\n",
    "    \"backbone_desc\":\"tf_efficientnet_b7_ns\",\n",
    "    \"conv_out_dim\":2560,\n",
    "    \"hidden_dim\":256,\n",
    "    \"num_encoders\":6,\n",
    "    \"num_decoders\":6,\n",
    "    \"num_heads\":8,\n",
    "    \"batch_size\":16,\n",
    "    \"image_dim\":448,\n",
    "    \"learning_rate\":0.0001, \n",
    "    \"momentum\":0.9,\n",
    "    \"weight_decay\":0.01, \n",
    "    \"n_classes\":80,\n",
    "    \"thresh\":0.5,\n",
    "    \"use_cutmix\":True,\n",
    "    \"use_pos_encoding\":False,\n",
    "    \"loss\":\"BCE\"\n",
    "}"
   ]
  },
  {
   "cell_type": "code",
   "execution_count": 9,
   "metadata": {},
   "outputs": [],
   "source": [
    "coco = COCODataModule(\n",
    "    img_data_dir,\n",
    "    img_size=param_dict[\"image_dim\"],\n",
    "    batch_size=param_dict[\"batch_size\"],\n",
    "    num_workers=24,\n",
    "    use_cutmix=param_dict[\"use_cutmix\"],\n",
    "    cutmix_alpha=1.0)\n",
    "param_dict[\"data\"] = coco"
   ]
  },
  {
   "cell_type": "code",
   "execution_count": 10,
   "metadata": {},
   "outputs": [],
   "source": [
    "pl_model = Query2LabelTrainModule(**param_dict)"
   ]
  },
  {
   "cell_type": "code",
   "execution_count": 11,
   "metadata": {},
   "outputs": [
    {
     "name": "stderr",
     "output_type": "stream",
     "text": [
      "Failed to detect the name of this notebook, you can set it manually with the WANDB_NOTEBOOK_NAME environment variable to enable code saving.\n",
      "\u001b[34m\u001b[1mwandb\u001b[0m: Currently logged in as: \u001b[33mcurt-tigges\u001b[0m (\u001b[33mascendant\u001b[0m). Use \u001b[1m`wandb login --relogin`\u001b[0m to force relogin\n"
     ]
    },
    {
     "data": {
      "text/html": [
       "wandb version 0.12.19 is available!  To upgrade, please run:\n",
       " $ pip install wandb --upgrade"
      ],
      "text/plain": [
       "<IPython.core.display.HTML object>"
      ]
     },
     "metadata": {},
     "output_type": "display_data"
    },
    {
     "data": {
      "text/html": [
       "Tracking run with wandb version 0.12.17"
      ],
      "text/plain": [
       "<IPython.core.display.HTML object>"
      ]
     },
     "metadata": {},
     "output_type": "display_data"
    },
    {
     "data": {
      "text/html": [
       "Run data is saved locally in <code>/home/curttigges/projects/query2label/wandb/run-20220623_225725-1374cb04</code>"
      ],
      "text/plain": [
       "<IPython.core.display.HTML object>"
      ]
     },
     "metadata": {},
     "output_type": "display_data"
    },
    {
     "data": {
      "text/html": [
       "Syncing run <strong><a href=\"https://wandb.ai/ascendant/coco-labeling/runs/1374cb04\" target=\"_blank\">volcanic-microwave-57</a></strong> to <a href=\"https://wandb.ai/ascendant/coco-labeling\" target=\"_blank\">Weights & Biases</a> (<a href=\"https://wandb.me/run\" target=\"_blank\">docs</a>)<br/>"
      ],
      "text/plain": [
       "<IPython.core.display.HTML object>"
      ]
     },
     "metadata": {},
     "output_type": "display_data"
    },
    {
     "name": "stderr",
     "output_type": "stream",
     "text": [
      "\u001b[34m\u001b[1mwandb\u001b[0m: logging graph, to disable use `wandb.watch(log_graph=False)`\n",
      "Using 16bit native Automatic Mixed Precision (AMP)\n",
      "GPU available: True, used: True\n",
      "TPU available: False, using: 0 TPU cores\n",
      "IPU available: False, using: 0 IPUs\n",
      "HPU available: False, using: 0 HPUs\n"
     ]
    },
    {
     "name": "stdout",
     "output_type": "stream",
     "text": [
      "loading annotations into memory...\n",
      "Done (t=6.54s)\n",
      "creating index...\n",
      "index created!\n",
      "loading annotations into memory...\n",
      "Done (t=4.07s)\n",
      "creating index...\n",
      "index created!\n"
     ]
    },
    {
     "name": "stderr",
     "output_type": "stream",
     "text": [
      "LOCAL_RANK: 0 - CUDA_VISIBLE_DEVICES: [0]\n",
      "\n",
      "  | Name           | Type              | Params\n",
      "-----------------------------------------------------\n",
      "0 | model          | Query2Label       | 83.5 M\n",
      "1 | base_criterion | BCEWithLogitsLoss | 0     \n",
      "-----------------------------------------------------\n",
      "83.5 M    Trainable params\n",
      "0         Non-trainable params\n",
      "83.5 M    Total params\n",
      "166.931   Total estimated model params size (MB)\n"
     ]
    },
    {
     "name": "stdout",
     "output_type": "stream",
     "text": [
      "Epoch 3:   2%|▏         | 170/7706 [2:28:09<109:27:38, 52.29s/it, loss=0.0909, v_num=cb04, val_loss=0.0503, val_rmap=0.825, val_cat_prec=0.551, val_cat_recall=0.502, val_cat_f1=0.516, val_ovr_prec=0.916, val_ovr_recall=0.560, val_ovr_f1=0.692] "
     ]
    },
    {
     "name": "stderr",
     "output_type": "stream",
     "text": [
      "wandb: Network error (ReadTimeout), entering retry loop.\n"
     ]
    },
    {
     "name": "stdout",
     "output_type": "stream",
     "text": [
      "Epoch 17:   4%|▎         | 280/7706 [14:26:04<382:49:33, 185.59s/it, loss=0.0565, v_num=cb04, val_loss=0.0438, val_rmap=0.878, val_cat_prec=0.695, val_cat_recall=0.673, val_cat_f1=0.674, val_ovr_prec=0.865, val_ovr_recall=0.761, val_ovr_f1=0.808]  "
     ]
    },
    {
     "name": "stderr",
     "output_type": "stream",
     "text": [
      "wandb: Network error (ReadTimeout), entering retry loop.\n"
     ]
    },
    {
     "name": "stdout",
     "output_type": "stream",
     "text": [
      "Epoch 18:   9%|▉         | 700/7706 [15:22:24<153:52:02, 79.06s/it, loss=0.0683, v_num=cb04, val_loss=0.0434, val_rmap=0.879, val_cat_prec=0.696, val_cat_recall=0.673, val_cat_f1=0.674, val_ovr_prec=0.867, val_ovr_recall=0.760, val_ovr_f1=0.808]   "
     ]
    },
    {
     "name": "stderr",
     "output_type": "stream",
     "text": [
      "/home/curttigges/miniconda3/envs/pytorch-dl/lib/python3.7/site-packages/pytorch_lightning/trainer/trainer.py:724: UserWarning: Detected KeyboardInterrupt, attempting graceful shutdown...\n",
      "  rank_zero_warn(\"Detected KeyboardInterrupt, attempting graceful shutdown...\")\n"
     ]
    }
   ],
   "source": [
    "wandb_logger = WandbLogger(project=\"coco-labeling\")\n",
    "wandb_logger.watch(pl_model, log=\"all\")\n",
    "\n",
    "trainer = pl.Trainer(\n",
    "    max_epochs=24,\n",
    "    precision=16,\n",
    "    accelerator='gpu', \n",
    "    devices=1,\n",
    "    logger=wandb_logger,\n",
    "    profiler=\"simple\",\n",
    "    callbacks=[TQDMProgressBar(refresh_rate=10)])\n",
    "trainer.fit(pl_model, param_dict[\"data\"])"
   ]
  },
  {
   "cell_type": "code",
   "execution_count": null,
   "metadata": {},
   "outputs": [],
   "source": []
  }
 ],
 "metadata": {
  "interpreter": {
   "hash": "af51f29a878ae3a8f8e9f6c4ebe8e1dfd1996d87171925dc7d5b6a703abf9b9c"
  },
  "kernelspec": {
   "display_name": "Python 3.7.10 ('pytorch-dl')",
   "language": "python",
   "name": "python3"
  },
  "language_info": {
   "codemirror_mode": {
    "name": "ipython",
    "version": 3
   },
   "file_extension": ".py",
   "mimetype": "text/x-python",
   "name": "python",
   "nbconvert_exporter": "python",
   "pygments_lexer": "ipython3",
   "version": "3.7.10"
  },
  "orig_nbformat": 4
 },
 "nbformat": 4,
 "nbformat_minor": 2
}
