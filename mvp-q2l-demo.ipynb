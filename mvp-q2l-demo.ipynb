{
 "cells": [
  {
   "cell_type": "markdown",
   "metadata": {},
   "source": [
    "### Data Prep"
   ]
  },
  {
   "cell_type": "code",
   "execution_count": 1,
   "metadata": {},
   "outputs": [],
   "source": [
    "img_data_dir = \"/media/curttigges/project-files/datasets/ms-coco/\""
   ]
  },
  {
   "cell_type": "markdown",
   "metadata": {},
   "source": [
    "### Models"
   ]
  },
  {
   "cell_type": "code",
   "execution_count": 2,
   "metadata": {},
   "outputs": [],
   "source": [
    "import pytorch_lightning as pl\n",
    "\n",
    "from pytorch_lightning.loggers import WandbLogger\n",
    "from pytorch_lightning.callbacks import TQDMProgressBar\n",
    "\n",
    "from data.coco_data_module import COCODataModule\n",
    "from q2l_labeller.pl_modules.query2label_train_module import Query2LabelTrainModule"
   ]
  },
  {
   "cell_type": "code",
   "execution_count": 3,
   "metadata": {},
   "outputs": [
    {
     "name": "stderr",
     "output_type": "stream",
     "text": [
      "Global seed set to 42\n"
     ]
    },
    {
     "data": {
      "text/plain": [
       "42"
      ]
     },
     "execution_count": 3,
     "metadata": {},
     "output_type": "execute_result"
    }
   ],
   "source": [
    "pl.seed_everything(42)"
   ]
  },
  {
   "cell_type": "code",
   "execution_count": 4,
   "metadata": {},
   "outputs": [],
   "source": [
    "param_dict = {\n",
    "    \"backbone_desc\":\"resnest101e\",\n",
    "    \"conv_out_dim\":2048,\n",
    "    \"hidden_dim\":256,\n",
    "    \"num_encoders\":6,\n",
    "    \"num_decoders\":6,\n",
    "    \"num_heads\":8,\n",
    "    \"batch_size\":24,\n",
    "    \"image_dim\":576,\n",
    "    \"learning_rate\":0.0001, \n",
    "    \"momentum\":0.9,\n",
    "    \"weight_decay\":0.01, \n",
    "    \"n_classes\":80,\n",
    "    \"thresh\":0.5,\n",
    "    \"use_cutmix\":True,\n",
    "    \"use_pos_encoding\":False,\n",
    "    \"loss\":\"BCE\"\n",
    "}"
   ]
  },
  {
   "cell_type": "code",
   "execution_count": 5,
   "metadata": {},
   "outputs": [],
   "source": [
    "coco = COCODataModule(\n",
    "    img_data_dir,\n",
    "    img_size=param_dict[\"image_dim\"],\n",
    "    batch_size=param_dict[\"batch_size\"],\n",
    "    num_workers=24,\n",
    "    use_cutmix=param_dict[\"use_cutmix\"],\n",
    "    cutmix_alpha=1.0)\n",
    "param_dict[\"data\"] = coco"
   ]
  },
  {
   "cell_type": "code",
   "execution_count": 6,
   "metadata": {},
   "outputs": [],
   "source": [
    "pl_model = Query2LabelTrainModule(**param_dict)"
   ]
  },
  {
   "cell_type": "code",
   "execution_count": 7,
   "metadata": {},
   "outputs": [
    {
     "name": "stderr",
     "output_type": "stream",
     "text": [
      "Failed to detect the name of this notebook, you can set it manually with the WANDB_NOTEBOOK_NAME environment variable to enable code saving.\n",
      "\u001b[34m\u001b[1mwandb\u001b[0m: Currently logged in as: \u001b[33mcurt-tigges\u001b[0m (\u001b[33mascendant\u001b[0m). Use \u001b[1m`wandb login --relogin`\u001b[0m to force relogin\n"
     ]
    },
    {
     "data": {
      "text/html": [
       "wandb version 0.12.19 is available!  To upgrade, please run:\n",
       " $ pip install wandb --upgrade"
      ],
      "text/plain": [
       "<IPython.core.display.HTML object>"
      ]
     },
     "metadata": {},
     "output_type": "display_data"
    },
    {
     "data": {
      "text/html": [
       "Tracking run with wandb version 0.12.17"
      ],
      "text/plain": [
       "<IPython.core.display.HTML object>"
      ]
     },
     "metadata": {},
     "output_type": "display_data"
    },
    {
     "data": {
      "text/html": [
       "Run data is saved locally in <code>/home/curttigges/projects/query2label/wandb/run-20220622_185506-6opcznzj</code>"
      ],
      "text/plain": [
       "<IPython.core.display.HTML object>"
      ]
     },
     "metadata": {},
     "output_type": "display_data"
    },
    {
     "data": {
      "text/html": [
       "Syncing run <strong><a href=\"https://wandb.ai/ascendant/coco-labeling/runs/6opcznzj\" target=\"_blank\">drawn-dew-53</a></strong> to <a href=\"https://wandb.ai/ascendant/coco-labeling\" target=\"_blank\">Weights & Biases</a> (<a href=\"https://wandb.me/run\" target=\"_blank\">docs</a>)<br/>"
      ],
      "text/plain": [
       "<IPython.core.display.HTML object>"
      ]
     },
     "metadata": {},
     "output_type": "display_data"
    },
    {
     "name": "stderr",
     "output_type": "stream",
     "text": [
      "\u001b[34m\u001b[1mwandb\u001b[0m: logging graph, to disable use `wandb.watch(log_graph=False)`\n",
      "Using 16bit native Automatic Mixed Precision (AMP)\n",
      "GPU available: True, used: True\n",
      "TPU available: False, using: 0 TPU cores\n",
      "IPU available: False, using: 0 IPUs\n",
      "HPU available: False, using: 0 HPUs\n"
     ]
    },
    {
     "name": "stdout",
     "output_type": "stream",
     "text": [
      "loading annotations into memory...\n",
      "Done (t=6.53s)\n",
      "creating index...\n",
      "index created!\n",
      "loading annotations into memory...\n",
      "Done (t=4.07s)\n",
      "creating index...\n",
      "index created!\n"
     ]
    },
    {
     "name": "stderr",
     "output_type": "stream",
     "text": [
      "LOCAL_RANK: 0 - CUDA_VISIBLE_DEVICES: [0]\n",
      "\n",
      "  | Name           | Type              | Params\n",
      "-----------------------------------------------------\n",
      "0 | model          | Query2Label       | 65.8 M\n",
      "1 | base_criterion | BCEWithLogitsLoss | 0     \n",
      "-----------------------------------------------------\n",
      "65.8 M    Trainable params\n",
      "0         Non-trainable params\n",
      "65.8 M    Total params\n",
      "131.547   Total estimated model params size (MB)\n"
     ]
    },
    {
     "name": "stdout",
     "output_type": "stream",
     "text": [
      "Epoch 18:  50%|█████     | 2570/5138 [17:12:11<17:11:23, 24.10s/it, loss=0.0629, v_num=znzj, val_loss=0.0392, val_rmap=0.900, val_cat_prec=0.738, val_cat_recall=0.717, val_cat_f1=0.715, val_ovr_prec=0.863, val_ovr_recall=0.796, val_ovr_f1=0.827]  "
     ]
    },
    {
     "name": "stderr",
     "output_type": "stream",
     "text": [
      "wandb: Network error (ReadTimeout), entering retry loop.\n"
     ]
    },
    {
     "name": "stdout",
     "output_type": "stream",
     "text": [
      "Epoch 18:  54%|█████▎    | 2750/5138 [17:14:57<14:58:43, 22.58s/it, loss=0.0616, v_num=znzj, val_loss=0.0392, val_rmap=0.900, val_cat_prec=0.738, val_cat_recall=0.717, val_cat_f1=0.715, val_ovr_prec=0.863, val_ovr_recall=0.796, val_ovr_f1=0.827]"
     ]
    }
   ],
   "source": [
    "wandb_logger = WandbLogger(project=\"coco-labeling\")\n",
    "wandb_logger.watch(pl_model, log=\"all\")\n",
    "\n",
    "trainer = pl.Trainer(\n",
    "    max_epochs=24,\n",
    "    precision=16,\n",
    "    accelerator='gpu', \n",
    "    devices=1,\n",
    "    logger=wandb_logger,\n",
    "    callbacks=[TQDMProgressBar(refresh_rate=10)])\n",
    "trainer.fit(pl_model, param_dict[\"data\"])"
   ]
  },
  {
   "cell_type": "code",
   "execution_count": null,
   "metadata": {},
   "outputs": [],
   "source": []
  }
 ],
 "metadata": {
  "interpreter": {
   "hash": "af51f29a878ae3a8f8e9f6c4ebe8e1dfd1996d87171925dc7d5b6a703abf9b9c"
  },
  "kernelspec": {
   "display_name": "Python 3.7.10 ('pytorch-dl')",
   "language": "python",
   "name": "python3"
  },
  "language_info": {
   "codemirror_mode": {
    "name": "ipython",
    "version": 3
   },
   "file_extension": ".py",
   "mimetype": "text/x-python",
   "name": "python",
   "nbconvert_exporter": "python",
   "pygments_lexer": "ipython3",
   "version": "3.7.10"
  },
  "orig_nbformat": 4
 },
 "nbformat": 4,
 "nbformat_minor": 2
}
