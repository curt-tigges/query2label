{
 "cells": [
  {
   "cell_type": "markdown",
   "metadata": {},
   "source": [
    "### Data Prep"
   ]
  },
  {
   "cell_type": "code",
   "execution_count": 1,
   "metadata": {},
   "outputs": [],
   "source": [
    "img_data_dir = \"/media/curttigges/project-files/datasets/ms-coco/\""
   ]
  },
  {
   "cell_type": "markdown",
   "metadata": {},
   "source": [
    "#### Data Preparation"
   ]
  },
  {
   "cell_type": "code",
   "execution_count": 2,
   "metadata": {},
   "outputs": [],
   "source": [
    "from data.coco_data_module import COCODataModule\n",
    "\n"
   ]
  },
  {
   "cell_type": "markdown",
   "metadata": {},
   "source": [
    "### Models"
   ]
  },
  {
   "cell_type": "code",
   "execution_count": 3,
   "metadata": {},
   "outputs": [],
   "source": [
    "import torch\n",
    "import torch.nn as nn\n",
    "from torchvision import models\n",
    "import torch.nn.functional as F\n",
    "import pytorch_lightning as pl\n",
    "import wandb\n",
    "\n",
    "from torch.optim.lr_scheduler import OneCycleLR\n",
    "from torchmetrics.functional import accuracy, precision\n",
    "import torchmetrics.functional as tf\n",
    "from pytorch_lightning.loggers import WandbLogger\n",
    "from pytorch_lightning.callbacks import TQDMProgressBar\n",
    "\n",
    "import data.coco_cat as cc"
   ]
  },
  {
   "cell_type": "code",
   "execution_count": 4,
   "metadata": {},
   "outputs": [],
   "source": [
    "class ResNetBackbone(nn.Module):\n",
    "    def __init__(self, model):\n",
    "        super().__init__()\n",
    "        self.resnet = model\n",
    "        del self.resnet.fc\n",
    "\n",
    "    def forward(self, x):\n",
    "        \n",
    "        out = self.resnet.conv1(x)\n",
    "        out = self.resnet.bn1(out)\n",
    "        out = self.resnet.relu(out)\n",
    "        out = self.resnet.maxpool(out)\n",
    "\n",
    "        out = self.resnet.layer1(out)\n",
    "        out = self.resnet.layer2(out)\n",
    "        out = self.resnet.layer3(out)\n",
    "        out = self.resnet.layer4(out)\n",
    "        \n",
    "        return out"
   ]
  },
  {
   "cell_type": "code",
   "execution_count": 5,
   "metadata": {},
   "outputs": [],
   "source": [
    "class TransformerDecoder(nn.Module):\n",
    "    def __init__(self, embed_dims):\n",
    "        super().__init__()\n",
    "\n",
    "        self.label_embed = nn.Embedding()\n",
    "\n",
    "        self.self_attn = nn.MultiheadAttention(embed_dims, )\n",
    "        self.cross_attn = nn.MultiheadAttention()\n",
    "        \n",
    "        self.norm1 = nn.LayerNorm()\n",
    "        self.norm2 = nn.LayerNorm()\n",
    "        self.norm3 = nn.LayerNorm()\n",
    "        \n",
    "        self.fc1 = nn.Linear()\n",
    "        self.fc2 = nn.Linear()\n",
    "\n",
    "        self.act = nn.ReLU()\n",
    "\n",
    "    def forward(self, x):\n",
    "        q = self.label_embed()\n",
    "        #self attention\n",
    "        label_out = self.self_attn(q, q, q)\n",
    "\n",
    "        out, _ = self.cross_attn(x, x, label_out)\n",
    "        out = self.norm2(out)\n",
    "        out = self.ff(out)\n",
    "\n",
    "        return out"
   ]
  },
  {
   "cell_type": "code",
   "execution_count": 6,
   "metadata": {},
   "outputs": [],
   "source": [
    "class Query2Label(nn.Module):\n",
    "    def __init__(self, model, num_classes, hidden_dim=256, nheads=8, encoder_layers=6, decoder_layers=6):\n",
    "        super().__init__()\n",
    "\n",
    "        self.num_classes = num_classes\n",
    "        self.hidden_dim = hidden_dim\n",
    "\n",
    "        self.backbone = ResNetBackbone(model) # outputs HW x \n",
    "        self.conv = nn.Conv2d(2048, hidden_dim, 1)\n",
    "        self.transformer = nn.Transformer(\n",
    "            hidden_dim, nheads, encoder_layers, decoder_layers)\n",
    "\n",
    "        # prediction heads, one extra class for predicting non-empty slots\n",
    "        # note that in baseline DETR linear_bbox layer is 3-layer MLP\n",
    "        #self.linear_class = nn.Linear(hidden_dim, num_classes)\n",
    "        self.fc1 = nn.Linear(num_classes * hidden_dim, num_classes)\n",
    "\n",
    "        # output positional encodings (object queries)\n",
    "        self.query_pos = nn.Parameter(torch.rand(1, num_classes, hidden_dim))\n",
    "\n",
    "        # spatial positional encodings\n",
    "        # note that in baseline DETR we use sine positional encodings\n",
    "        self.row_embed = nn.Parameter(torch.rand(50, hidden_dim // 2))\n",
    "        self.col_embed = nn.Parameter(torch.rand(50, hidden_dim // 2))\n",
    "\n",
    "    def forward(self, x):\n",
    "        out = self.backbone(x)\n",
    "        # TODO: Add 2D sine and cosine embeddings\n",
    "\n",
    "        B, _, _, _ = x.shape\n",
    "        \n",
    "        # convert from 2048 to 256 feature planes for the transformer\n",
    "        h = self.conv(out)\n",
    "\n",
    "        # convert h from [N x C x H x W] to [H*W x N x C] (N=batch size)\n",
    "        # this corresponds to the [SIZE x BATCH_SIZE x EMBED_DIM] dimensions \n",
    "        # that the transformer expects\n",
    "        h = h.flatten(2).permute(2, 0, 1)\n",
    "        '''\n",
    "        # construct positional encodings\n",
    "        H, W = h.shape[-2:]\n",
    "        pos = torch.cat([\n",
    "            self.col_embed[:W].unsqueeze(0).repeat(H, 1, 1),\n",
    "            self.row_embed[:H].unsqueeze(1).repeat(1, W, 1),\n",
    "        ], dim=-1).flatten(0, 1).unsqueeze(1)\n",
    "\n",
    "        # propagate through the transformer\n",
    "        h = self.transformer(pos + 0.1 * h.flatten(2).permute(2, 0, 1),\n",
    "                             self.query_pos.unsqueeze(1)).transpose(0, 1)\n",
    "        '''\n",
    "        # image feature vector \"h\" is sent in after transformation above; we \n",
    "        # also convert query_pos from [1 x TARGET x (hidden)EMBED_SIZE] to \n",
    "        # [TARGET x BATCH_SIZE x (hidden)EMBED_SIZE]\n",
    "        query_pos = self.query_pos.repeat(B, 1, 1)\n",
    "        query_pos = query_pos.transpose(0, 1)\n",
    "        h = self.transformer(h, query_pos).transpose(0, 1)\n",
    "        \n",
    "        # output from transformer is of dim [TARGET x BATCH_SIZE x EMBED_SIZE];\n",
    "        # however, we transpose it to [BATCH_SIZE x TARGET x EMBED_SIZE] above\n",
    "        # and then take an average along the TARGET dimension.\n",
    "        #\n",
    "        # next, we project transformer outputs to class labels\n",
    "        #h = h.mean(1)\n",
    "        h = torch.reshape(h,(B, self.num_classes * self.hidden_dim))\n",
    "        return self.fc1(h)\n",
    "        \n",
    "        #out = self.decoder(out)\n",
    "\n",
    "    #def predict(self, x):\n",
    "        "
   ]
  },
  {
   "cell_type": "code",
   "execution_count": 7,
   "metadata": {},
   "outputs": [],
   "source": [
    "class Query2LabelTrainModule(pl.LightningModule):\n",
    "    def __init__(\n",
    "        self, model, data, backbone_desc, num_encoders, num_decoders, num_heads,\n",
    "        batch_size, image_dim, learning_rate, momentum, n_classes, thresh=0.5):\n",
    "        super().__init__()\n",
    "\n",
    "        # Key parameters\n",
    "        self.save_hyperparameters()\n",
    "        self.data = data\n",
    "        self.model = Query2Label(\n",
    "            model=model, num_classes=n_classes, nheads=num_heads, \n",
    "            encoder_layers=num_encoders, decoder_layers=num_decoders)\n",
    "\n",
    "    def forward(self, x):\n",
    "        x = self.model(x)        \n",
    "        return x\n",
    "\n",
    "    def evaluate(self, batch, stage=None):\n",
    "        x, y = batch\n",
    "        y_hat = self(x)\n",
    "        loss = F.binary_cross_entropy_with_logits(y_hat, y.type(torch.float))\n",
    "        acc = accuracy(y_hat, y.type(torch.int), threshold=self.hparams.thresh)\n",
    "        prec = precision(y_hat, y.type(torch.int), threshold=self.hparams.thresh)\n",
    "        recall = tf.recall(y_hat, y.type(torch.int), threshold=self.hparams.thresh)\n",
    "        f1_score = tf.f1_score(y_hat, y.type(torch.int), threshold=self.hparams.thresh)\n",
    "        rmap = tf.retrieval_average_precision(y_hat, y.type(torch.int))\n",
    "\n",
    "        if stage:\n",
    "            self.log(f\"{stage}_loss\", loss, prog_bar=True)\n",
    "            self.log(f\"{stage}_acc\", acc, prog_bar=True)\n",
    "            self.log(f\"{stage}_prec\", prec, prog_bar=True)\n",
    "            self.log(f\"{stage}_recall\", recall, prog_bar=True)\n",
    "            self.log(f\"{stage}_f1_score\", f1_score, prog_bar=True)\n",
    "            self.log(f\"{stage}_rmap\", rmap, prog_bar=True)\n",
    "\n",
    "            # log prediction examples to wandb\n",
    "            \n",
    "            pred = self.model(x)\n",
    "            pred_keys = pred[0].sigmoid().tolist()\n",
    "            pred_keys = [0 if p < self.hparams.thresh else 1 for p in pred_keys]\n",
    "\n",
    "            mapper = cc.COCOCategorizer()\n",
    "            pred_lbl = mapper.get_labels(pred_keys)\n",
    "            \n",
    "            try:\n",
    "                self.logger.experiment.log({\"val_pred_examples\": [wandb.Image(x[0], caption=pred_lbl)]})\n",
    "            except AttributeError:\n",
    "                pass\n",
    "            \n",
    "    \n",
    "    def training_step(self, batch, batch_idx):\n",
    "        x, y = batch\n",
    "        y_hat = self(x)\n",
    "        loss = F.binary_cross_entropy_with_logits(y_hat, y.type(torch.float))\n",
    "        self.log(\"train_loss\", loss)\n",
    "        return loss\n",
    "\n",
    "    def validation_step(self, batch, batch_idx):\n",
    "        self.evaluate(batch, \"val\")\n",
    "\n",
    "    def test_step(self, batch, batch_idx):\n",
    "        self.evaluate(batch, \"test\")\n",
    "\n",
    "    def configure_optimizers(self):\n",
    "        optimizer = torch.optim.Adam(\n",
    "            self.parameters(), \n",
    "            lr=self.hparams.learning_rate,\n",
    "            betas=(0.9,0.999))\n",
    "        \n",
    "        lr_scheduler_dict = {\n",
    "            \"scheduler\":OneCycleLR(\n",
    "                optimizer,\n",
    "                self.hparams.learning_rate,\n",
    "                epochs=self.trainer.max_epochs,\n",
    "                steps_per_epoch=len(self.data.train_dataloader()),\n",
    "                anneal_strategy='cos'\n",
    "            ),\n",
    "            \"interval\":\"step\",\n",
    "        }\n",
    "        return {\"optimizer\":optimizer, \"lr_scheduler\":lr_scheduler_dict}\n",
    "        #return optimizer"
   ]
  },
  {
   "cell_type": "code",
   "execution_count": 8,
   "metadata": {},
   "outputs": [],
   "source": [
    "param_dict = {\n",
    "    \"model\":models.resnet50(pretrained=True),\n",
    "    \"backbone_desc\":\"resnet50\",\n",
    "    \"num_encoders\":6,\n",
    "    \"num_decoders\":6,\n",
    "    \"num_heads\":8,\n",
    "    \"batch_size\":64,\n",
    "    \"image_dim\":448,\n",
    "    \"learning_rate\":0.0001, \n",
    "    \"momentum\":0.9, \n",
    "    \"n_classes\":80\n",
    "}"
   ]
  },
  {
   "cell_type": "code",
   "execution_count": 9,
   "metadata": {},
   "outputs": [],
   "source": [
    "coco = COCODataModule(\n",
    "    img_data_dir,\n",
    "    img_size=param_dict[\"image_dim\"],\n",
    "    batch_size=param_dict[\"batch_size\"],\n",
    "    num_workers=12)\n",
    "param_dict[\"data\"] = coco"
   ]
  },
  {
   "cell_type": "code",
   "execution_count": 10,
   "metadata": {},
   "outputs": [
    {
     "name": "stderr",
     "output_type": "stream",
     "text": [
      "/home/curttigges/miniconda3/envs/pytorch-dl/lib/python3.7/site-packages/pytorch_lightning/utilities/parsing.py:262: UserWarning: Attribute 'model' is an instance of `nn.Module` and is already saved during checkpointing. It is recommended to ignore them using `self.save_hyperparameters(ignore=['model'])`.\n",
      "  f\"Attribute {k!r} is an instance of `nn.Module` and is already saved during checkpointing.\"\n"
     ]
    }
   ],
   "source": [
    "pl_model = Query2LabelTrainModule(**param_dict)"
   ]
  },
  {
   "cell_type": "code",
   "execution_count": 11,
   "metadata": {},
   "outputs": [
    {
     "name": "stderr",
     "output_type": "stream",
     "text": [
      "Failed to detect the name of this notebook, you can set it manually with the WANDB_NOTEBOOK_NAME environment variable to enable code saving.\n",
      "\u001b[34m\u001b[1mwandb\u001b[0m: Currently logged in as: \u001b[33mcurt-tigges\u001b[0m (\u001b[33mascendant\u001b[0m). Use \u001b[1m`wandb login --relogin`\u001b[0m to force relogin\n"
     ]
    },
    {
     "data": {
      "text/html": [
       "wandb version 0.12.18 is available!  To upgrade, please run:\n",
       " $ pip install wandb --upgrade"
      ],
      "text/plain": [
       "<IPython.core.display.HTML object>"
      ]
     },
     "metadata": {},
     "output_type": "display_data"
    },
    {
     "data": {
      "text/html": [
       "Tracking run with wandb version 0.12.17"
      ],
      "text/plain": [
       "<IPython.core.display.HTML object>"
      ]
     },
     "metadata": {},
     "output_type": "display_data"
    },
    {
     "data": {
      "text/html": [
       "Run data is saved locally in <code>/home/curttigges/projects/query2label/wandb/run-20220615_190544-1t839zy7</code>"
      ],
      "text/plain": [
       "<IPython.core.display.HTML object>"
      ]
     },
     "metadata": {},
     "output_type": "display_data"
    },
    {
     "data": {
      "text/html": [
       "Syncing run <strong><a href=\"https://wandb.ai/ascendant/coco-labeling/runs/1t839zy7\" target=\"_blank\">stilted-serenity-8</a></strong> to <a href=\"https://wandb.ai/ascendant/coco-labeling\" target=\"_blank\">Weights & Biases</a> (<a href=\"https://wandb.me/run\" target=\"_blank\">docs</a>)<br/>"
      ],
      "text/plain": [
       "<IPython.core.display.HTML object>"
      ]
     },
     "metadata": {},
     "output_type": "display_data"
    },
    {
     "name": "stderr",
     "output_type": "stream",
     "text": [
      "\u001b[34m\u001b[1mwandb\u001b[0m: logging graph, to disable use `wandb.watch(log_graph=False)`\n",
      "Using 16bit native Automatic Mixed Precision (AMP)\n",
      "GPU available: True, used: True\n",
      "TPU available: False, using: 0 TPU cores\n",
      "IPU available: False, using: 0 IPUs\n",
      "HPU available: False, using: 0 HPUs\n",
      "/home/curttigges/miniconda3/envs/pytorch-dl/lib/python3.7/site-packages/pytorch_lightning/utilities/parsing.py:107: UserWarning: attribute 'data' removed from hparams because it cannot be pickled\n",
      "  rank_zero_warn(f\"attribute '{k}' removed from hparams because it cannot be pickled\")\n"
     ]
    },
    {
     "name": "stdout",
     "output_type": "stream",
     "text": [
      "loading annotations into memory...\n",
      "Done (t=6.83s)\n",
      "creating index...\n",
      "index created!\n",
      "loading annotations into memory...\n",
      "Done (t=4.21s)\n",
      "creating index...\n",
      "index created!\n"
     ]
    },
    {
     "name": "stderr",
     "output_type": "stream",
     "text": [
      "LOCAL_RANK: 0 - CUDA_VISIBLE_DEVICES: [0]\n",
      "\n",
      "  | Name  | Type        | Params\n",
      "--------------------------------------\n",
      "0 | model | Query2Label | 43.1 M\n",
      "--------------------------------------\n",
      "43.1 M    Trainable params\n",
      "0         Non-trainable params\n",
      "43.1 M    Total params\n",
      "86.137    Total estimated model params size (MB)\n"
     ]
    },
    {
     "name": "stdout",
     "output_type": "stream",
     "text": [
      "Epoch 0:  39%|███▉      | 760/1927 [07:38<11:43,  1.66it/s, loss=0.0742, v_num=9zy7]"
     ]
    },
    {
     "name": "stderr",
     "output_type": "stream",
     "text": [
      "wandb: Network error (ReadTimeout), entering retry loop.\n"
     ]
    },
    {
     "name": "stdout",
     "output_type": "stream",
     "text": [
      "Epoch 11: 100%|██████████| 1927/1927 [3:30:39<00:00,  6.56s/it, loss=0.0216, v_num=9zy7, val_loss=0.0509, val_acc=0.986, val_prec=0.852, val_recall=0.737, val_f1_score=0.790, val_rmap=0.866]    \n"
     ]
    },
    {
     "name": "stderr",
     "output_type": "stream",
     "text": [
      "FIT Profiler Report\n",
      "\n",
      "------------------------------------------------------------------------------------------------------------------------------------------------------------------------------------------------------------------------------------------------------------------------------------------------------------------\n",
      "|  Action                                                                                                                                                                                                    \t|  Mean duration (s)\t|  Num calls      \t|  Total time (s) \t|  Percentage %   \t|\n",
      "------------------------------------------------------------------------------------------------------------------------------------------------------------------------------------------------------------------------------------------------------------------------------------------------------------------\n",
      "|  Total                                                                                                                                                                                                     \t|  -              \t|  759379         \t|  1.2661e+04     \t|  100 %          \t|\n",
      "------------------------------------------------------------------------------------------------------------------------------------------------------------------------------------------------------------------------------------------------------------------------------------------------------------------\n",
      "|  run_training_epoch                                                                                                                                                                                        \t|  1052.5         \t|  12             \t|  1.263e+04      \t|  99.76          \t|\n",
      "|  run_training_batch                                                                                                                                                                                        \t|  0.59007        \t|  15528          \t|  9162.6         \t|  72.37          \t|\n",
      "|  [LightningModule]Query2LabelTrainModule.optimizer_step                                                                                                                                                    \t|  0.58926        \t|  15528          \t|  9150.1         \t|  72.271         \t|\n",
      "|  [Strategy]SingleDeviceStrategy.validation_step                                                                                                                                                            \t|  0.34439        \t|  7598           \t|  2616.6         \t|  20.667         \t|\n",
      "|  [LightningModule]Query2LabelTrainModule.optimizer_zero_grad                                                                                                                                               \t|  0.073749       \t|  15528          \t|  1145.2         \t|  9.0451         \t|\n",
      "|  [Strategy]SingleDeviceStrategy.backward                                                                                                                                                                   \t|  0.05696        \t|  15528          \t|  884.48         \t|  6.986          \t|\n",
      "|  [Strategy]SingleDeviceStrategy.training_step                                                                                                                                                              \t|  0.056233       \t|  15528          \t|  873.19         \t|  6.8968         \t|\n",
      "|  [Strategy]SingleDeviceStrategy.batch_to_device                                                                                                                                                            \t|  0.01952        \t|  23126          \t|  451.42         \t|  3.5655         \t|\n",
      "|  [Callback]ModelCheckpoint{'monitor': None, 'mode': 'min', 'every_n_train_steps': 0, 'every_n_epochs': 1, 'train_time_interval': None, 'save_on_train_epoch_end': True}.on_train_epoch_end                 \t|  0.74318        \t|  12             \t|  8.9181         \t|  0.070439       \t|\n",
      "|  on_train_batch_end                                                                                                                                                                                        \t|  0.0002826      \t|  15528          \t|  4.3881         \t|  0.034659       \t|\n",
      "|  [Callback]TQDMProgressBar.on_validation_batch_end                                                                                                                                                         \t|  0.00019515     \t|  7598           \t|  1.4827         \t|  0.011711       \t|\n",
      "|  on_train_batch_start                                                                                                                                                                                      \t|  7.937e-05      \t|  15528          \t|  1.2325         \t|  0.0097345      \t|\n",
      "|  [LightningModule]Query2LabelTrainModule.lr_scheduler_step                                                                                                                                                 \t|  5.8175e-05     \t|  15528          \t|  0.90335        \t|  0.007135       \t|\n",
      "|  [Callback]TQDMProgressBar.on_validation_batch_start                                                                                                                                                       \t|  1.5757e-05     \t|  7598           \t|  0.11972        \t|  0.00094561     \t|\n",
      "|  [Callback]TQDMProgressBar.on_after_backward                                                                                                                                                               \t|  5.3419e-06     \t|  15528          \t|  0.082949       \t|  0.00065517     \t|\n",
      "|  [Callback]TQDMProgressBar.on_batch_start                                                                                                                                                                  \t|  4.509e-06      \t|  15528          \t|  0.070016       \t|  0.00055302     \t|\n",
      "|  [Callback]TQDMProgressBar.on_before_optimizer_step                                                                                                                                                        \t|  3.3213e-06     \t|  15528          \t|  0.051573       \t|  0.00040734     \t|\n",
      "|  [Callback]TQDMProgressBar.on_before_backward                                                                                                                                                              \t|  3.1719e-06     \t|  15528          \t|  0.049253       \t|  0.00038902     \t|\n",
      "|  [Callback]ModelSummary.on_after_backward                                                                                                                                                                  \t|  2.9718e-06     \t|  15528          \t|  0.046146       \t|  0.00036448     \t|\n",
      "|  [Callback]TQDMProgressBar.on_before_zero_grad                                                                                                                                                             \t|  2.9603e-06     \t|  15528          \t|  0.045968       \t|  0.00036307     \t|\n",
      "|  [Callback]ModelCheckpoint{'monitor': None, 'mode': 'min', 'every_n_train_steps': 0, 'every_n_epochs': 1, 'train_time_interval': None, 'save_on_train_epoch_end': True}.on_after_backward                  \t|  2.2898e-06     \t|  15528          \t|  0.035557       \t|  0.00028084     \t|\n",
      "|  [Callback]TQDMProgressBar.on_batch_end                                                                                                                                                                    \t|  2.1557e-06     \t|  15528          \t|  0.033474       \t|  0.00026439     \t|\n",
      "|  [Callback]GradientAccumulationScheduler.on_after_backward                                                                                                                                                 \t|  2.0736e-06     \t|  15528          \t|  0.032199       \t|  0.00025432     \t|\n",
      "|  [Callback]ModelSummary.on_before_optimizer_step                                                                                                                                                           \t|  2.0359e-06     \t|  15528          \t|  0.031613       \t|  0.00024969     \t|\n",
      "|  [Callback]ModelSummary.on_batch_start                                                                                                                                                                     \t|  1.9562e-06     \t|  15528          \t|  0.030376       \t|  0.00023993     \t|\n",
      "|  [Callback]ModelSummary.on_before_backward                                                                                                                                                                 \t|  1.8698e-06     \t|  15528          \t|  0.029034       \t|  0.00022932     \t|\n",
      "|  [Callback]GradientAccumulationScheduler.on_before_optimizer_step                                                                                                                                          \t|  1.8018e-06     \t|  15528          \t|  0.027979       \t|  0.00022099     \t|\n",
      "|  [Callback]ModelSummary.on_before_zero_grad                                                                                                                                                                \t|  1.762e-06      \t|  15528          \t|  0.02736        \t|  0.0002161      \t|\n",
      "|  [Callback]ModelCheckpoint{'monitor': None, 'mode': 'min', 'every_n_train_steps': 0, 'every_n_epochs': 1, 'train_time_interval': None, 'save_on_train_epoch_end': True}.on_batch_start                     \t|  1.7109e-06     \t|  15528          \t|  0.026566       \t|  0.00020983     \t|\n",
      "|  [Callback]ModelSummary.on_batch_end                                                                                                                                                                       \t|  1.6426e-06     \t|  15528          \t|  0.025506       \t|  0.00020146     \t|\n",
      "|  [Callback]ModelCheckpoint{'monitor': None, 'mode': 'min', 'every_n_train_steps': 0, 'every_n_epochs': 1, 'train_time_interval': None, 'save_on_train_epoch_end': True}.on_before_backward                 \t|  1.6295e-06     \t|  15528          \t|  0.025302       \t|  0.00019985     \t|\n",
      "|  [Callback]ModelCheckpoint{'monitor': None, 'mode': 'min', 'every_n_train_steps': 0, 'every_n_epochs': 1, 'train_time_interval': None, 'save_on_train_epoch_end': True}.on_before_zero_grad                \t|  1.6234e-06     \t|  15528          \t|  0.025209       \t|  0.00019911     \t|\n",
      "|  [Callback]ModelCheckpoint{'monitor': None, 'mode': 'min', 'every_n_train_steps': 0, 'every_n_epochs': 1, 'train_time_interval': None, 'save_on_train_epoch_end': True}.on_before_optimizer_step           \t|  1.6214e-06     \t|  15528          \t|  0.025177       \t|  0.00019886     \t|\n",
      "|  [Callback]GradientAccumulationScheduler.on_batch_start                                                                                                                                                    \t|  1.5679e-06     \t|  15528          \t|  0.024347       \t|  0.0001923      \t|\n",
      "|  [Callback]GradientAccumulationScheduler.on_before_backward                                                                                                                                                \t|  1.5125e-06     \t|  15528          \t|  0.023486       \t|  0.0001855      \t|\n",
      "|  [Callback]ModelSummary.on_validation_batch_end                                                                                                                                                            \t|  3.0796e-06     \t|  7598           \t|  0.023399       \t|  0.00018481     \t|\n",
      "|  [Callback]GradientAccumulationScheduler.on_before_zero_grad                                                                                                                                               \t|  1.4796e-06     \t|  15528          \t|  0.022975       \t|  0.00018147     \t|\n",
      "|  [Callback]ModelCheckpoint{'monitor': None, 'mode': 'min', 'every_n_train_steps': 0, 'every_n_epochs': 1, 'train_time_interval': None, 'save_on_train_epoch_end': True}.on_batch_end                       \t|  1.478e-06      \t|  15528          \t|  0.02295        \t|  0.00018127     \t|\n",
      "|  [LightningModule]Query2LabelTrainModule.training_step_end                                                                                                                                                 \t|  1.4684e-06     \t|  15528          \t|  0.022801       \t|  0.0001801      \t|\n",
      "|  [Callback]GradientAccumulationScheduler.on_batch_end                                                                                                                                                      \t|  1.4238e-06     \t|  15528          \t|  0.022109       \t|  0.00017463     \t|\n",
      "|  [LightningModule]Query2LabelTrainModule.on_after_backward                                                                                                                                                 \t|  1.3503e-06     \t|  15528          \t|  0.020968       \t|  0.00016562     \t|\n",
      "|  [Callback]ModelSummary.on_validation_batch_start                                                                                                                                                          \t|  2.6655e-06     \t|  7598           \t|  0.020253       \t|  0.00015996     \t|\n",
      "|  [LightningModule]Query2LabelTrainModule.on_train_batch_end                                                                                                                                                \t|  1.3018e-06     \t|  15528          \t|  0.020214       \t|  0.00015966     \t|\n",
      "|  [LightningModule]Query2LabelTrainModule.on_train_batch_start                                                                                                                                              \t|  1.29e-06       \t|  15528          \t|  0.02003        \t|  0.00015821     \t|\n",
      "|  [LightningModule]Query2LabelTrainModule.on_before_backward                                                                                                                                                \t|  1.2158e-06     \t|  15528          \t|  0.018879       \t|  0.00014911     \t|\n",
      "|  [Strategy]SingleDeviceStrategy.training_step_end                                                                                                                                                          \t|  1.1704e-06     \t|  15528          \t|  0.018174       \t|  0.00014355     \t|\n",
      "|  [LightningModule]Query2LabelTrainModule.on_before_zero_grad                                                                                                                                               \t|  1.1205e-06     \t|  15528          \t|  0.017399       \t|  0.00013742     \t|\n",
      "|  [LightningModule]Query2LabelTrainModule.on_before_optimizer_step                                                                                                                                          \t|  1.1062e-06     \t|  15528          \t|  0.017177       \t|  0.00013567     \t|\n",
      "|  [Strategy]SingleDeviceStrategy.on_train_batch_start                                                                                                                                                       \t|  1.0789e-06     \t|  15528          \t|  0.016753       \t|  0.00013232     \t|\n",
      "|  [Callback]TQDMProgressBar.on_validation_start                                                                                                                                                             \t|  0.0011757      \t|  13             \t|  0.015284       \t|  0.00012072     \t|\n",
      "|  [LightningModule]Query2LabelTrainModule.validation_step_end                                                                                                                                               \t|  1.9818e-06     \t|  7598           \t|  0.015058       \t|  0.00011893     \t|\n",
      "|  [Callback]TQDMProgressBar.on_validation_end                                                                                                                                                               \t|  0.0010593      \t|  13             \t|  0.01377        \t|  0.00010876     \t|\n",
      "|  [Callback]ModelCheckpoint{'monitor': None, 'mode': 'min', 'every_n_train_steps': 0, 'every_n_epochs': 1, 'train_time_interval': None, 'save_on_train_epoch_end': True}.on_validation_batch_start          \t|  1.7418e-06     \t|  7598           \t|  0.013234       \t|  0.00010453     \t|\n",
      "|  [Callback]ModelCheckpoint{'monitor': None, 'mode': 'min', 'every_n_train_steps': 0, 'every_n_epochs': 1, 'train_time_interval': None, 'save_on_train_epoch_end': True}.on_validation_batch_end            \t|  1.7139e-06     \t|  7598           \t|  0.013022       \t|  0.00010285     \t|\n",
      "|  [Callback]GradientAccumulationScheduler.on_validation_batch_start                                                                                                                                         \t|  1.6726e-06     \t|  7598           \t|  0.012708       \t|  0.00010037     \t|\n",
      "|  [Callback]GradientAccumulationScheduler.on_validation_batch_end                                                                                                                                           \t|  1.6701e-06     \t|  7598           \t|  0.012689       \t|  0.00010022     \t|\n",
      "|  [LightningModule]Query2LabelTrainModule.on_validation_model_train                                                                                                                                         \t|  0.00092983     \t|  13             \t|  0.012088       \t|  9.5475e-05     \t|\n",
      "|  [LightningModule]Query2LabelTrainModule.on_validation_model_eval                                                                                                                                          \t|  0.0009012      \t|  13             \t|  0.011716       \t|  9.2535e-05     \t|\n",
      "|  [LightningModule]Query2LabelTrainModule.on_validation_batch_start                                                                                                                                         \t|  1.3138e-06     \t|  7598           \t|  0.0099822      \t|  7.8844e-05     \t|\n",
      "|  [LightningModule]Query2LabelTrainModule.on_validation_batch_end                                                                                                                                           \t|  1.2463e-06     \t|  7598           \t|  0.009469       \t|  7.4791e-05     \t|\n",
      "|  [Callback]TQDMProgressBar.on_train_epoch_start                                                                                                                                                            \t|  0.00066819     \t|  12             \t|  0.0080182      \t|  6.3331e-05     \t|\n",
      "|  [Strategy]SingleDeviceStrategy.validation_step_end                                                                                                                                                        \t|  9.4538e-07     \t|  7598           \t|  0.007183       \t|  5.6734e-05     \t|\n",
      "|  [Callback]TQDMProgressBar.on_train_epoch_end                                                                                                                                                              \t|  0.00043767     \t|  12             \t|  0.005252       \t|  4.1482e-05     \t|\n",
      "|  [Callback]ModelSummary.on_fit_start                                                                                                                                                                       \t|  0.0051749      \t|  1              \t|  0.0051749      \t|  4.0873e-05     \t|\n",
      "|  [Callback]TQDMProgressBar.on_sanity_check_start                                                                                                                                                           \t|  0.0015552      \t|  1              \t|  0.0015552      \t|  1.2284e-05     \t|\n",
      "|  [LightningModule]Query2LabelTrainModule.configure_optimizers                                                                                                                                              \t|  0.00091706     \t|  1              \t|  0.00091706     \t|  7.2433e-06     \t|\n",
      "|  [Callback]TQDMProgressBar.on_train_end                                                                                                                                                                    \t|  0.00062085     \t|  1              \t|  0.00062085     \t|  4.9037e-06     \t|\n",
      "|  [Callback]TQDMProgressBar.on_train_start                                                                                                                                                                  \t|  0.00059364     \t|  1              \t|  0.00059364     \t|  4.6888e-06     \t|\n",
      "|  [Callback]ModelCheckpoint{'monitor': None, 'mode': 'min', 'every_n_train_steps': 0, 'every_n_epochs': 1, 'train_time_interval': None, 'save_on_train_epoch_end': True}.on_validation_end                  \t|  4.1759e-05     \t|  13             \t|  0.00054286     \t|  4.2878e-06     \t|\n",
      "|  [Callback]ModelCheckpoint{'monitor': None, 'mode': 'min', 'every_n_train_steps': 0, 'every_n_epochs': 1, 'train_time_interval': None, 'save_on_train_epoch_end': None}.setup                              \t|  0.00017825     \t|  1              \t|  0.00017825     \t|  1.4079e-06     \t|\n",
      "|  [Callback]ModelSummary.on_validation_start                                                                                                                                                                \t|  7.0405e-06     \t|  13             \t|  9.1527e-05     \t|  7.2292e-07     \t|\n",
      "|  [Callback]ModelSummary.on_train_epoch_end                                                                                                                                                                 \t|  6.8077e-06     \t|  12             \t|  8.1692e-05     \t|  6.4524e-07     \t|\n",
      "|  [Callback]GradientAccumulationScheduler.on_train_epoch_start                                                                                                                                              \t|  5.4883e-06     \t|  12             \t|  6.586e-05      \t|  5.2019e-07     \t|\n",
      "|  [Callback]TQDMProgressBar.on_epoch_start                                                                                                                                                                  \t|  2.5038e-06     \t|  25             \t|  6.2596e-05     \t|  4.9441e-07     \t|\n",
      "|  [LightningModule]Query2LabelTrainModule.on_validation_start                                                                                                                                               \t|  4.4625e-06     \t|  13             \t|  5.8012e-05     \t|  4.582e-07      \t|\n",
      "|  [Callback]TQDMProgressBar.on_epoch_end                                                                                                                                                                    \t|  2.3036e-06     \t|  25             \t|  5.7589e-05     \t|  4.5486e-07     \t|\n",
      "|  [Callback]ModelSummary.on_validation_end                                                                                                                                                                  \t|  4.4285e-06     \t|  13             \t|  5.757e-05      \t|  4.5471e-07     \t|\n",
      "|  [LightningModule]Query2LabelTrainModule.on_validation_end                                                                                                                                                 \t|  4.2788e-06     \t|  13             \t|  5.5624e-05     \t|  4.3934e-07     \t|\n",
      "|  [Callback]ModelSummary.on_train_epoch_start                                                                                                                                                               \t|  4.0396e-06     \t|  12             \t|  4.8475e-05     \t|  3.8288e-07     \t|\n",
      "|  [Callback]ModelCheckpoint{'monitor': None, 'mode': 'min', 'every_n_train_steps': 0, 'every_n_epochs': 1, 'train_time_interval': None, 'save_on_train_epoch_end': True}.on_epoch_start                     \t|  1.6728e-06     \t|  25             \t|  4.1819e-05     \t|  3.303e-07      \t|\n",
      "|  [Callback]ModelSummary.on_epoch_start                                                                                                                                                                     \t|  1.6706e-06     \t|  25             \t|  4.1766e-05     \t|  3.2989e-07     \t|\n",
      "|  [Callback]GradientAccumulationScheduler.on_epoch_start                                                                                                                                                    \t|  1.6194e-06     \t|  25             \t|  4.0485e-05     \t|  3.1977e-07     \t|\n",
      "|  [Callback]ModelSummary.on_epoch_end                                                                                                                                                                       \t|  1.6144e-06     \t|  25             \t|  4.036e-05      \t|  3.1878e-07     \t|\n",
      "|  [Callback]ModelCheckpoint{'monitor': None, 'mode': 'min', 'every_n_train_steps': 0, 'every_n_epochs': 1, 'train_time_interval': None, 'save_on_train_epoch_end': True}.on_epoch_end                       \t|  1.563e-06      \t|  25             \t|  3.9074e-05     \t|  3.0862e-07     \t|\n",
      "|  [Callback]TQDMProgressBar.on_save_checkpoint                                                                                                                                                              \t|  3.0991e-06     \t|  12             \t|  3.7189e-05     \t|  2.9373e-07     \t|\n",
      "|  [Callback]GradientAccumulationScheduler.on_epoch_end                                                                                                                                                      \t|  1.4398e-06     \t|  25             \t|  3.5994e-05     \t|  2.843e-07      \t|\n",
      "|  [Callback]TQDMProgressBar.on_validation_epoch_end                                                                                                                                                         \t|  2.6432e-06     \t|  13             \t|  3.4362e-05     \t|  2.7141e-07     \t|\n",
      "|  [Callback]TQDMProgressBar.on_validation_epoch_start                                                                                                                                                       \t|  2.3754e-06     \t|  13             \t|  3.088e-05      \t|  2.439e-07      \t|\n",
      "|  [Callback]GradientAccumulationScheduler.on_validation_start                                                                                                                                               \t|  2.2849e-06     \t|  13             \t|  2.9704e-05     \t|  2.3462e-07     \t|\n",
      "|  [Callback]GradientAccumulationScheduler.on_validation_end                                                                                                                                                 \t|  2.1228e-06     \t|  13             \t|  2.7597e-05     \t|  2.1797e-07     \t|\n",
      "|  [Callback]ModelCheckpoint{'monitor': None, 'mode': 'min', 'every_n_train_steps': 0, 'every_n_epochs': 1, 'train_time_interval': None, 'save_on_train_epoch_end': True}.on_validation_start                \t|  2.1179e-06     \t|  13             \t|  2.7533e-05     \t|  2.1747e-07     \t|\n",
      "|  [Callback]ModelSummary.on_save_checkpoint                                                                                                                                                                 \t|  2.1595e-06     \t|  12             \t|  2.5914e-05     \t|  2.0468e-07     \t|\n",
      "|  [LightningModule]Query2LabelTrainModule.on_epoch_start                                                                                                                                                    \t|  9.9292e-07     \t|  25             \t|  2.4823e-05     \t|  1.9606e-07     \t|\n",
      "|  [Callback]ModelSummary.on_validation_epoch_end                                                                                                                                                            \t|  1.8632e-06     \t|  13             \t|  2.4221e-05     \t|  1.9131e-07     \t|\n",
      "|  [Callback]ModelSummary.on_validation_epoch_start                                                                                                                                                          \t|  1.7997e-06     \t|  13             \t|  2.3396e-05     \t|  1.8479e-07     \t|\n",
      "|  [Callback]GradientAccumulationScheduler.on_train_epoch_end                                                                                                                                                \t|  1.9417e-06     \t|  12             \t|  2.33e-05       \t|  1.8403e-07     \t|\n",
      "|  [LightningModule]Query2LabelTrainModule.on_epoch_end                                                                                                                                                      \t|  9.3004e-07     \t|  25             \t|  2.3251e-05     \t|  1.8365e-07     \t|\n",
      "|  [Callback]ModelCheckpoint{'monitor': None, 'mode': 'min', 'every_n_train_steps': 0, 'every_n_epochs': 1, 'train_time_interval': None, 'save_on_train_epoch_end': True}.on_validation_epoch_end            \t|  1.7723e-06     \t|  13             \t|  2.304e-05      \t|  1.8198e-07     \t|\n",
      "|  [Callback]ModelCheckpoint{'monitor': None, 'mode': 'min', 'every_n_train_steps': 0, 'every_n_epochs': 1, 'train_time_interval': None, 'save_on_train_epoch_end': True}.on_validation_epoch_start          \t|  1.7443e-06     \t|  13             \t|  2.2676e-05     \t|  1.791e-07      \t|\n",
      "|  [LightningModule]Query2LabelTrainModule.on_train_epoch_end                                                                                                                                                \t|  1.8694e-06     \t|  12             \t|  2.2433e-05     \t|  1.7719e-07     \t|\n",
      "|  [Callback]GradientAccumulationScheduler.on_validation_epoch_start                                                                                                                                         \t|  1.6663e-06     \t|  13             \t|  2.1662e-05     \t|  1.711e-07      \t|\n",
      "|  [Callback]ModelCheckpoint{'monitor': None, 'mode': 'min', 'every_n_train_steps': 0, 'every_n_epochs': 1, 'train_time_interval': None, 'save_on_train_epoch_end': True}.on_train_epoch_start               \t|  1.7672e-06     \t|  12             \t|  2.1206e-05     \t|  1.6749e-07     \t|\n",
      "|  [Callback]GradientAccumulationScheduler.on_save_checkpoint                                                                                                                                                \t|  1.7204e-06     \t|  12             \t|  2.0645e-05     \t|  1.6306e-07     \t|\n",
      "|  [LightningModule]Query2LabelTrainModule.validation_epoch_end                                                                                                                                              \t|  1.548e-06      \t|  13             \t|  2.0124e-05     \t|  1.5895e-07     \t|\n",
      "|  [Callback]GradientAccumulationScheduler.on_validation_epoch_end                                                                                                                                           \t|  1.547e-06      \t|  13             \t|  2.0111e-05     \t|  1.5885e-07     \t|\n",
      "|  [Callback]ModelCheckpoint{'monitor': None, 'mode': 'min', 'every_n_train_steps': 0, 'every_n_epochs': 1, 'train_time_interval': None, 'save_on_train_epoch_end': True}.on_save_checkpoint                 \t|  1.57e-06       \t|  12             \t|  1.884e-05      \t|  1.4881e-07     \t|\n",
      "|  [Strategy]SingleDeviceStrategy.on_validation_start                                                                                                                                                        \t|  1.3285e-06     \t|  13             \t|  1.727e-05      \t|  1.3641e-07     \t|\n",
      "|  [LightningModule]Query2LabelTrainModule.on_validation_epoch_end                                                                                                                                           \t|  1.0962e-06     \t|  13             \t|  1.4251e-05     \t|  1.1256e-07     \t|\n",
      "|  [LightningModule]Query2LabelTrainModule.on_save_checkpoint                                                                                                                                                \t|  1.0512e-06     \t|  12             \t|  1.2615e-05     \t|  9.9639e-08     \t|\n",
      "|  [LightningModule]Query2LabelTrainModule.on_train_epoch_start                                                                                                                                              \t|  1.0339e-06     \t|  12             \t|  1.2407e-05     \t|  9.7996e-08     \t|\n",
      "|  [Strategy]SingleDeviceStrategy.on_validation_end                                                                                                                                                          \t|  9.4746e-07     \t|  13             \t|  1.2317e-05     \t|  9.7285e-08     \t|\n",
      "|  [LightningModule]Query2LabelTrainModule.on_validation_epoch_start                                                                                                                                         \t|  9.3946e-07     \t|  13             \t|  1.2213e-05     \t|  9.6464e-08     \t|\n",
      "|  [Callback]TQDMProgressBar.setup                                                                                                                                                                           \t|  8.467e-06      \t|  1              \t|  8.467e-06      \t|  6.6876e-08     \t|\n",
      "|  [Callback]ModelSummary.on_sanity_check_start                                                                                                                                                              \t|  6.583e-06      \t|  1              \t|  6.583e-06      \t|  5.1995e-08     \t|\n",
      "|  [LightningModule]Query2LabelTrainModule.on_fit_start                                                                                                                                                      \t|  6.252e-06      \t|  1              \t|  6.252e-06      \t|  4.9381e-08     \t|\n",
      "|  [Callback]TQDMProgressBar.on_pretrain_routine_start                                                                                                                                                       \t|  4.839e-06      \t|  1              \t|  4.839e-06      \t|  3.822e-08      \t|\n",
      "|  [Callback]ModelSummary.on_train_start                                                                                                                                                                     \t|  4.008e-06      \t|  1              \t|  4.008e-06      \t|  3.1657e-08     \t|\n",
      "|  [Callback]TQDMProgressBar.on_fit_end                                                                                                                                                                      \t|  3.906e-06      \t|  1              \t|  3.906e-06      \t|  3.0851e-08     \t|\n",
      "|  [Callback]ModelSummary.on_train_end                                                                                                                                                                       \t|  3.856e-06      \t|  1              \t|  3.856e-06      \t|  3.0456e-08     \t|\n",
      "|  [Callback]TQDMProgressBar.on_sanity_check_end                                                                                                                                                             \t|  3.597e-06      \t|  1              \t|  3.597e-06      \t|  2.8411e-08     \t|\n",
      "|  [Callback]GradientAccumulationScheduler.on_fit_start                                                                                                                                                      \t|  3.267e-06      \t|  1              \t|  3.267e-06      \t|  2.5804e-08     \t|\n",
      "|  [LightningModule]Query2LabelTrainModule.configure_callbacks                                                                                                                                               \t|  2.846e-06      \t|  1              \t|  2.846e-06      \t|  2.2479e-08     \t|\n",
      "|  [Callback]ModelSummary.on_pretrain_routine_start                                                                                                                                                          \t|  2.826e-06      \t|  1              \t|  2.826e-06      \t|  2.2321e-08     \t|\n",
      "|  [Callback]TQDMProgressBar.on_fit_start                                                                                                                                                                    \t|  2.745e-06      \t|  1              \t|  2.745e-06      \t|  2.1681e-08     \t|\n",
      "|  [Callback]GradientAccumulationScheduler.on_pretrain_routine_start                                                                                                                                         \t|  2.745e-06      \t|  1              \t|  2.745e-06      \t|  2.1681e-08     \t|\n",
      "|  [Callback]GradientAccumulationScheduler.setup                                                                                                                                                             \t|  2.455e-06      \t|  1              \t|  2.455e-06      \t|  1.9391e-08     \t|\n",
      "|  [Callback]TQDMProgressBar.on_pretrain_routine_end                                                                                                                                                         \t|  2.455e-06      \t|  1              \t|  2.455e-06      \t|  1.9391e-08     \t|\n",
      "|  [Callback]ModelSummary.setup                                                                                                                                                                              \t|  2.435e-06      \t|  1              \t|  2.435e-06      \t|  1.9233e-08     \t|\n",
      "|  [Callback]ModelCheckpoint{'monitor': None, 'mode': 'min', 'every_n_train_steps': 0, 'every_n_epochs': 1, 'train_time_interval': None, 'save_on_train_epoch_end': True}.on_sanity_check_start              \t|  2.415e-06      \t|  1              \t|  2.415e-06      \t|  1.9075e-08     \t|\n",
      "|  [Callback]ModelCheckpoint{'monitor': None, 'mode': 'min', 'every_n_train_steps': 0, 'every_n_epochs': 1, 'train_time_interval': None, 'save_on_train_epoch_end': True}.on_train_start                     \t|  2.395e-06      \t|  1              \t|  2.395e-06      \t|  1.8917e-08     \t|\n",
      "|  [Callback]ModelCheckpoint{'monitor': None, 'mode': 'min', 'every_n_train_steps': 0, 'every_n_epochs': 1, 'train_time_interval': None, 'save_on_train_epoch_end': True}.on_pretrain_routine_start          \t|  2.325e-06      \t|  1              \t|  2.325e-06      \t|  1.8364e-08     \t|\n",
      "|  [Callback]GradientAccumulationScheduler.on_sanity_check_start                                                                                                                                             \t|  2.304e-06      \t|  1              \t|  2.304e-06      \t|  1.8198e-08     \t|\n",
      "|  [Callback]TQDMProgressBar.on_before_accelerator_backend_setup                                                                                                                                             \t|  2.304e-06      \t|  1              \t|  2.304e-06      \t|  1.8198e-08     \t|\n",
      "|  [Callback]ModelSummary.on_sanity_check_end                                                                                                                                                                \t|  2.134e-06      \t|  1              \t|  2.134e-06      \t|  1.6855e-08     \t|\n",
      "|  [Callback]ModelSummary.on_pretrain_routine_end                                                                                                                                                            \t|  2.124e-06      \t|  1              \t|  2.124e-06      \t|  1.6776e-08     \t|\n",
      "|  [Callback]ModelCheckpoint{'monitor': None, 'mode': 'min', 'every_n_train_steps': 0, 'every_n_epochs': 1, 'train_time_interval': None, 'save_on_train_epoch_end': True}.on_pretrain_routine_end            \t|  2.094e-06      \t|  1              \t|  2.094e-06      \t|  1.6539e-08     \t|\n",
      "|  [Callback]TQDMProgressBar.teardown                                                                                                                                                                        \t|  2.063e-06      \t|  1              \t|  2.063e-06      \t|  1.6294e-08     \t|\n",
      "|  [LightningModule]Query2LabelTrainModule.prepare_data                                                                                                                                                      \t|  2.054e-06      \t|  1              \t|  2.054e-06      \t|  1.6223e-08     \t|\n",
      "|  [Callback]TQDMProgressBar.on_configure_sharded_model                                                                                                                                                      \t|  2.003e-06      \t|  1              \t|  2.003e-06      \t|  1.5821e-08     \t|\n",
      "|  [Callback]GradientAccumulationScheduler.on_pretrain_routine_end                                                                                                                                           \t|  1.924e-06      \t|  1              \t|  1.924e-06      \t|  1.5197e-08     \t|\n",
      "|  [Callback]ModelSummary.on_fit_end                                                                                                                                                                         \t|  1.893e-06      \t|  1              \t|  1.893e-06      \t|  1.4952e-08     \t|\n",
      "|  [Callback]GradientAccumulationScheduler.on_train_start                                                                                                                                                    \t|  1.813e-06      \t|  1              \t|  1.813e-06      \t|  1.432e-08      \t|\n",
      "|  [Callback]ModelCheckpoint{'monitor': None, 'mode': 'min', 'every_n_train_steps': 0, 'every_n_epochs': 1, 'train_time_interval': None, 'save_on_train_epoch_end': True}.on_fit_start                       \t|  1.784e-06      \t|  1              \t|  1.784e-06      \t|  1.4091e-08     \t|\n",
      "|  [LightningModule]Query2LabelTrainModule.on_fit_end                                                                                                                                                        \t|  1.773e-06      \t|  1              \t|  1.773e-06      \t|  1.4004e-08     \t|\n",
      "|  [Callback]ModelCheckpoint{'monitor': None, 'mode': 'min', 'every_n_train_steps': 0, 'every_n_epochs': 1, 'train_time_interval': None, 'save_on_train_epoch_end': None}.on_before_accelerator_backend_setup\t|  1.693e-06      \t|  1              \t|  1.693e-06      \t|  1.3372e-08     \t|\n",
      "|  [Callback]GradientAccumulationScheduler.on_train_end                                                                                                                                                      \t|  1.673e-06      \t|  1              \t|  1.673e-06      \t|  1.3214e-08     \t|\n",
      "|  [Callback]ModelSummary.on_before_accelerator_backend_setup                                                                                                                                                \t|  1.553e-06      \t|  1              \t|  1.553e-06      \t|  1.2266e-08     \t|\n",
      "|  [Callback]ModelCheckpoint{'monitor': None, 'mode': 'min', 'every_n_train_steps': 0, 'every_n_epochs': 1, 'train_time_interval': None, 'save_on_train_epoch_end': True}.on_configure_sharded_model         \t|  1.532e-06      \t|  1              \t|  1.532e-06      \t|  1.21e-08       \t|\n",
      "|  [Callback]GradientAccumulationScheduler.on_fit_end                                                                                                                                                        \t|  1.532e-06      \t|  1              \t|  1.532e-06      \t|  1.21e-08       \t|\n",
      "|  [Callback]GradientAccumulationScheduler.on_sanity_check_end                                                                                                                                               \t|  1.513e-06      \t|  1              \t|  1.513e-06      \t|  1.195e-08      \t|\n",
      "|  [Callback]ModelSummary.teardown                                                                                                                                                                           \t|  1.493e-06      \t|  1              \t|  1.493e-06      \t|  1.1792e-08     \t|\n",
      "|  [Callback]ModelCheckpoint{'monitor': None, 'mode': 'min', 'every_n_train_steps': 0, 'every_n_epochs': 1, 'train_time_interval': None, 'save_on_train_epoch_end': True}.on_fit_end                         \t|  1.482e-06      \t|  1              \t|  1.482e-06      \t|  1.1705e-08     \t|\n",
      "|  [Callback]ModelSummary.on_configure_sharded_model                                                                                                                                                         \t|  1.473e-06      \t|  1              \t|  1.473e-06      \t|  1.1634e-08     \t|\n",
      "|  [Callback]ModelCheckpoint{'monitor': None, 'mode': 'min', 'every_n_train_steps': 0, 'every_n_epochs': 1, 'train_time_interval': None, 'save_on_train_epoch_end': True}.on_train_end                       \t|  1.462e-06      \t|  1              \t|  1.462e-06      \t|  1.1547e-08     \t|\n",
      "|  [Callback]ModelCheckpoint{'monitor': None, 'mode': 'min', 'every_n_train_steps': 0, 'every_n_epochs': 1, 'train_time_interval': None, 'save_on_train_epoch_end': True}.teardown                           \t|  1.443e-06      \t|  1              \t|  1.443e-06      \t|  1.1397e-08     \t|\n",
      "|  [LightningModule]Query2LabelTrainModule.on_pretrain_routine_start                                                                                                                                         \t|  1.443e-06      \t|  1              \t|  1.443e-06      \t|  1.1397e-08     \t|\n",
      "|  [Callback]ModelCheckpoint{'monitor': None, 'mode': 'min', 'every_n_train_steps': 0, 'every_n_epochs': 1, 'train_time_interval': None, 'save_on_train_epoch_end': True}.on_sanity_check_end                \t|  1.443e-06      \t|  1              \t|  1.443e-06      \t|  1.1397e-08     \t|\n",
      "|  [Callback]GradientAccumulationScheduler.on_before_accelerator_backend_setup                                                                                                                               \t|  1.442e-06      \t|  1              \t|  1.442e-06      \t|  1.139e-08      \t|\n",
      "|  [LightningModule]Query2LabelTrainModule.setup                                                                                                                                                             \t|  1.373e-06      \t|  1              \t|  1.373e-06      \t|  1.0845e-08     \t|\n",
      "|  [LightningModule]Query2LabelTrainModule.on_val_dataloader                                                                                                                                                 \t|  1.343e-06      \t|  1              \t|  1.343e-06      \t|  1.0608e-08     \t|\n",
      "|  [Callback]GradientAccumulationScheduler.on_configure_sharded_model                                                                                                                                        \t|  1.333e-06      \t|  1              \t|  1.333e-06      \t|  1.0529e-08     \t|\n",
      "|  [Callback]GradientAccumulationScheduler.teardown                                                                                                                                                          \t|  1.312e-06      \t|  1              \t|  1.312e-06      \t|  1.0363e-08     \t|\n",
      "|  [LightningModule]Query2LabelTrainModule.on_train_dataloader                                                                                                                                               \t|  1.163e-06      \t|  1              \t|  1.163e-06      \t|  9.1859e-09     \t|\n",
      "|  [LightningModule]Query2LabelTrainModule.on_train_end                                                                                                                                                      \t|  1.102e-06      \t|  1              \t|  1.102e-06      \t|  8.7041e-09     \t|\n",
      "|  [LightningModule]Query2LabelTrainModule.configure_sharded_model                                                                                                                                           \t|  1.102e-06      \t|  1              \t|  1.102e-06      \t|  8.7041e-09     \t|\n",
      "|  [LightningModule]Query2LabelTrainModule.on_pretrain_routine_end                                                                                                                                           \t|  9.52e-07       \t|  1              \t|  9.52e-07       \t|  7.5193e-09     \t|\n",
      "|  [Strategy]SingleDeviceStrategy.on_train_start                                                                                                                                                             \t|  8.62e-07       \t|  1              \t|  8.62e-07       \t|  6.8085e-09     \t|\n",
      "|  [LightningModule]Query2LabelTrainModule.on_train_start                                                                                                                                                    \t|  8.02e-07       \t|  1              \t|  8.02e-07       \t|  6.3345e-09     \t|\n",
      "|  [Strategy]SingleDeviceStrategy.on_train_end                                                                                                                                                               \t|  7.61e-07       \t|  1              \t|  7.61e-07       \t|  6.0107e-09     \t|\n",
      "|  [LightningModule]Query2LabelTrainModule.teardown                                                                                                                                                          \t|  5.31e-07       \t|  1              \t|  5.31e-07       \t|  4.1941e-09     \t|\n",
      "------------------------------------------------------------------------------------------------------------------------------------------------------------------------------------------------------------------------------------------------------------------------------------------------------------------\n",
      "\n"
     ]
    }
   ],
   "source": [
    "wandb_logger = WandbLogger(project=\"coco-labeling\")\n",
    "wandb_logger.watch(pl_model, log=\"all\")\n",
    "\n",
    "trainer = pl.Trainer(\n",
    "    max_epochs=12,\n",
    "    precision=16,\n",
    "    accelerator='gpu', \n",
    "    devices=1,\n",
    "    logger=wandb_logger,\n",
    "    profiler=\"simple\",\n",
    "    callbacks=[TQDMProgressBar(refresh_rate=10)])\n",
    "trainer.fit(pl_model, param_dict[\"data\"])"
   ]
  },
  {
   "cell_type": "code",
   "execution_count": null,
   "metadata": {},
   "outputs": [],
   "source": []
  }
 ],
 "metadata": {
  "interpreter": {
   "hash": "af51f29a878ae3a8f8e9f6c4ebe8e1dfd1996d87171925dc7d5b6a703abf9b9c"
  },
  "kernelspec": {
   "display_name": "Python 3.7.10 ('pytorch-dl')",
   "language": "python",
   "name": "python3"
  },
  "language_info": {
   "codemirror_mode": {
    "name": "ipython",
    "version": 3
   },
   "file_extension": ".py",
   "mimetype": "text/x-python",
   "name": "python",
   "nbconvert_exporter": "python",
   "pygments_lexer": "ipython3",
   "version": "3.7.10"
  },
  "orig_nbformat": 4
 },
 "nbformat": 4,
 "nbformat_minor": 2
}
