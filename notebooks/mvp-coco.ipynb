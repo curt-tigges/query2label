{
 "cells": [
  {
   "cell_type": "code",
   "execution_count": 12,
   "metadata": {},
   "outputs": [],
   "source": [
    "import torch\n",
    "import torch.nn as nn\n",
    "import numpy as np \n",
    "import torchvision\n",
    "from torchvision import models\n",
    "import matplotlib.pyplot as plt\n",
    "import pandas as pd\n",
    "from PIL import Image"
   ]
  },
  {
   "cell_type": "markdown",
   "metadata": {},
   "source": [
    "### Data Prep"
   ]
  },
  {
   "cell_type": "code",
   "execution_count": 13,
   "metadata": {},
   "outputs": [],
   "source": [
    "img_data_dir = \"/media/curttigges/project-files/datasets/ms-coco/\""
   ]
  },
  {
   "cell_type": "markdown",
   "metadata": {},
   "source": [
    "#### Data Preparation"
   ]
  },
  {
   "cell_type": "code",
   "execution_count": 14,
   "metadata": {},
   "outputs": [],
   "source": [
    "from data.coco_data_module import COCODataModule\n",
    "\n",
    "BATCH_SIZE = 64\n",
    "\n",
    "dm = COCODataModule(\n",
    "    img_data_dir,\n",
    "    batch_size=BATCH_SIZE,\n",
    "    num_workers=12)"
   ]
  },
  {
   "cell_type": "code",
   "execution_count": 15,
   "metadata": {},
   "outputs": [
    {
     "name": "stdout",
     "output_type": "stream",
     "text": [
      "loading annotations into memory...\n",
      "Done (t=9.26s)\n",
      "creating index...\n",
      "index created!\n",
      "loading annotations into memory...\n",
      "Done (t=6.35s)\n",
      "creating index...\n",
      "index created!\n"
     ]
    }
   ],
   "source": [
    "dm.setup()"
   ]
  },
  {
   "cell_type": "code",
   "execution_count": 16,
   "metadata": {},
   "outputs": [],
   "source": [
    "TRAIN_SIZE = dm.train_set.__len__()"
   ]
  },
  {
   "cell_type": "code",
   "execution_count": 17,
   "metadata": {},
   "outputs": [
    {
     "data": {
      "text/plain": [
       "82783"
      ]
     },
     "execution_count": 17,
     "metadata": {},
     "output_type": "execute_result"
    }
   ],
   "source": [
    "TRAIN_SIZE"
   ]
  },
  {
   "cell_type": "markdown",
   "metadata": {},
   "source": [
    "### Models"
   ]
  },
  {
   "cell_type": "code",
   "execution_count": 18,
   "metadata": {},
   "outputs": [],
   "source": [
    "import torch\n",
    "import torch.nn.functional as F\n",
    "import pytorch_lightning as pl\n",
    "\n",
    "from torch.optim.lr_scheduler import OneCycleLR\n",
    "from torchmetrics.functional import accuracy, precision\n",
    "import torchmetrics.functional as tf\n",
    "from pytorch_lightning.loggers import WandbLogger\n",
    "from pytorch_lightning.callbacks import TQDMProgressBar"
   ]
  },
  {
   "cell_type": "code",
   "execution_count": 19,
   "metadata": {},
   "outputs": [],
   "source": [
    "class ResNetMultiLabel(nn.Module):\n",
    "    def __init__(self, model, n_classes):\n",
    "        super().__init__()\n",
    "        resnet = model\n",
    "        resnet.fc = nn.Sequential(\n",
    "            nn.Dropout(p=0.2),\n",
    "            nn.Linear(in_features=resnet.fc.in_features, out_features=n_classes)\n",
    "        )\n",
    "        self.backbone = resnet\n",
    "        #self.sigmoid = nn.Sigmoid()\n",
    "\n",
    "    def forward(self, x):\n",
    "        \n",
    "        out = self.backbone(x)\n",
    "        \n",
    "        return out"
   ]
  },
  {
   "cell_type": "code",
   "execution_count": 20,
   "metadata": {},
   "outputs": [],
   "source": [
    "class ResNetMultiTrainModule(pl.LightningModule):\n",
    "    def __init__(self, model, data, model_desc, batch_size, learning_rate, momentum, n_classes, thresh=0.5):\n",
    "        super().__init__()\n",
    "\n",
    "        # Key parameters\n",
    "        self.save_hyperparameters()\n",
    "        self.data = data\n",
    "        self.model = ResNetMultiLabel(model, n_classes)\n",
    "\n",
    "    def forward(self, x):\n",
    "        x = self.model(x)        \n",
    "        return x\n",
    "\n",
    "    def evaluate(self, batch, stage=None):\n",
    "        x, y = batch\n",
    "        y_hat = self(x)\n",
    "        loss = F.binary_cross_entropy_with_logits(y_hat, y.type(torch.float))\n",
    "        acc = accuracy(y_hat, y.type(torch.int), threshold=self.hparams.thresh)\n",
    "        prec = precision(y_hat, y.type(torch.int), threshold=self.hparams.thresh)\n",
    "        recall = tf.recall(y_hat, y.type(torch.int), threshold=self.hparams.thresh)\n",
    "        f1_score = tf.f1_score(y_hat, y.type(torch.int), threshold=self.hparams.thresh)\n",
    "        rmap = tf.retrieval_average_precision(y_hat, y.type(torch.int))\n",
    "\n",
    "        if stage:\n",
    "            self.log(f\"{stage}_loss\", loss, prog_bar=True)\n",
    "            self.log(f\"{stage}_acc\", acc, prog_bar=True)\n",
    "            self.log(f\"{stage}_prec\", prec, prog_bar=True)\n",
    "            self.log(f\"{stage}_recall\", recall, prog_bar=True)\n",
    "            self.log(f\"{stage}_f1_score\", f1_score, prog_bar=True)\n",
    "            self.log(f\"{stage}_rmap\", rmap, prog_bar=True)\n",
    "    \n",
    "    def training_step(self, batch, batch_idx):\n",
    "        x, y = batch\n",
    "        y_hat = self(x)\n",
    "        loss = F.binary_cross_entropy_with_logits(y_hat, y.type(torch.float))\n",
    "        self.log(\"train_loss\", loss)\n",
    "        return loss\n",
    "\n",
    "    def validation_step(self, batch, batch_idx):\n",
    "        self.evaluate(batch, \"val\")\n",
    "\n",
    "    def test_step(self, batch, batch_idx):\n",
    "        self.evaluate(batch, \"test\")\n",
    "\n",
    "    def configure_optimizers(self):\n",
    "        optimizer = torch.optim.Adam(\n",
    "            self.parameters(), \n",
    "            lr=self.hparams.learning_rate,\n",
    "            betas=(0.9,0.999))\n",
    "        \n",
    "        lr_scheduler_dict = {\n",
    "            \"scheduler\":OneCycleLR(\n",
    "                optimizer,\n",
    "                self.hparams.learning_rate,\n",
    "                epochs=self.trainer.max_epochs,\n",
    "                steps_per_epoch=len(self.data.train_dataloader()),\n",
    "                anneal_strategy='cos'\n",
    "            ),\n",
    "            \"interval\":\"step\",\n",
    "        }\n",
    "        return {\"optimizer\":optimizer, \"lr_scheduler\":lr_scheduler_dict}\n",
    "        #return optimizer"
   ]
  },
  {
   "cell_type": "code",
   "execution_count": 21,
   "metadata": {},
   "outputs": [
    {
     "name": "stderr",
     "output_type": "stream",
     "text": [
      "/home/curttigges/miniconda3/envs/pytorch-dl/lib/python3.7/site-packages/pytorch_lightning/utilities/parsing.py:262: UserWarning: Attribute 'model' is an instance of `nn.Module` and is already saved during checkpointing. It is recommended to ignore them using `self.save_hyperparameters(ignore=['model'])`.\n",
      "  f\"Attribute {k!r} is an instance of `nn.Module` and is already saved during checkpointing.\"\n"
     ]
    }
   ],
   "source": [
    "pl_model = ResNetMultiTrainModule(\n",
    "    models.resnet101(pretrained=True),\n",
    "    data=dm,\n",
    "    model_desc=\"resnet101\",\n",
    "    batch_size=BATCH_SIZE, \n",
    "    learning_rate=0.001, \n",
    "    momentum=0.9, \n",
    "    n_classes=80)"
   ]
  },
  {
   "cell_type": "code",
   "execution_count": 11,
   "metadata": {},
   "outputs": [
    {
     "name": "stderr",
     "output_type": "stream",
     "text": [
      "Failed to detect the name of this notebook, you can set it manually with the WANDB_NOTEBOOK_NAME environment variable to enable code saving.\n",
      "\u001b[34m\u001b[1mwandb\u001b[0m: Currently logged in as: \u001b[33mcurt-tigges\u001b[0m (\u001b[33mascendant\u001b[0m). Use \u001b[1m`wandb login --relogin`\u001b[0m to force relogin\n"
     ]
    },
    {
     "data": {
      "text/html": [
       "wandb version 0.12.18 is available!  To upgrade, please run:\n",
       " $ pip install wandb --upgrade"
      ],
      "text/plain": [
       "<IPython.core.display.HTML object>"
      ]
     },
     "metadata": {},
     "output_type": "display_data"
    },
    {
     "data": {
      "text/html": [
       "Tracking run with wandb version 0.12.17"
      ],
      "text/plain": [
       "<IPython.core.display.HTML object>"
      ]
     },
     "metadata": {},
     "output_type": "display_data"
    },
    {
     "data": {
      "text/html": [
       "Run data is saved locally in <code>/home/curttigges/projects/query2label/wandb/run-20220612_224712-1bk9nare</code>"
      ],
      "text/plain": [
       "<IPython.core.display.HTML object>"
      ]
     },
     "metadata": {},
     "output_type": "display_data"
    },
    {
     "data": {
      "text/html": [
       "Syncing run <strong><a href=\"https://wandb.ai/ascendant/resnet-coco/runs/1bk9nare\" target=\"_blank\">classic-dust-6</a></strong> to <a href=\"https://wandb.ai/ascendant/resnet-coco\" target=\"_blank\">Weights & Biases</a> (<a href=\"https://wandb.me/run\" target=\"_blank\">docs</a>)<br/>"
      ],
      "text/plain": [
       "<IPython.core.display.HTML object>"
      ]
     },
     "metadata": {},
     "output_type": "display_data"
    },
    {
     "name": "stderr",
     "output_type": "stream",
     "text": [
      "\u001b[34m\u001b[1mwandb\u001b[0m: logging graph, to disable use `wandb.watch(log_graph=False)`\n",
      "Using 16bit native Automatic Mixed Precision (AMP)\n",
      "GPU available: True, used: True\n",
      "TPU available: False, using: 0 TPU cores\n",
      "IPU available: False, using: 0 IPUs\n",
      "HPU available: False, using: 0 HPUs\n",
      "/home/curttigges/miniconda3/envs/pytorch-dl/lib/python3.7/site-packages/pytorch_lightning/utilities/parsing.py:107: UserWarning: attribute 'data' removed from hparams because it cannot be pickled\n",
      "  rank_zero_warn(f\"attribute '{k}' removed from hparams because it cannot be pickled\")\n"
     ]
    },
    {
     "name": "stdout",
     "output_type": "stream",
     "text": [
      "loading annotations into memory...\n",
      "Done (t=6.60s)\n",
      "creating index...\n",
      "index created!\n",
      "loading annotations into memory...\n",
      "Done (t=1.71s)\n",
      "creating index...\n",
      "index created!\n"
     ]
    },
    {
     "name": "stderr",
     "output_type": "stream",
     "text": [
      "LOCAL_RANK: 0 - CUDA_VISIBLE_DEVICES: [0]\n",
      "\n",
      "  | Name  | Type             | Params\n",
      "-------------------------------------------\n",
      "0 | model | ResNetMultiLabel | 42.7 M\n",
      "-------------------------------------------\n",
      "42.7 M    Trainable params\n",
      "0         Non-trainable params\n",
      "42.7 M    Total params\n",
      "85.328    Total estimated model params size (MB)\n"
     ]
    },
    {
     "name": "stdout",
     "output_type": "stream",
     "text": [
      "Epoch 43:  49%|████▉     | 950/1927 [13:05:11<13:27:30, 49.59s/it, loss=0.00823, v_num=nare, val_loss=0.0735, val_acc=0.984, val_prec=0.866, val_recall=0.672, val_f1_score=0.756, val_rmap=0.832]   "
     ]
    },
    {
     "name": "stderr",
     "output_type": "stream",
     "text": [
      "/home/curttigges/miniconda3/envs/pytorch-dl/lib/python3.7/site-packages/pytorch_lightning/trainer/trainer.py:724: UserWarning: Detected KeyboardInterrupt, attempting graceful shutdown...\n",
      "  rank_zero_warn(\"Detected KeyboardInterrupt, attempting graceful shutdown...\")\n"
     ]
    }
   ],
   "source": [
    "wandb_logger = WandbLogger(project=\"resnet-coco\")\n",
    "wandb_logger.watch(pl_model, log=\"all\")\n",
    "\n",
    "trainer = pl.Trainer(\n",
    "    max_epochs=45,\n",
    "    precision=16,\n",
    "    accelerator='gpu', \n",
    "    devices=1,\n",
    "    logger=wandb_logger,\n",
    "    profiler=\"simple\",\n",
    "    callbacks=[TQDMProgressBar(refresh_rate=10)])\n",
    "trainer.fit(pl_model, dm)"
   ]
  },
  {
   "cell_type": "code",
   "execution_count": null,
   "metadata": {},
   "outputs": [],
   "source": []
  }
 ],
 "metadata": {
  "interpreter": {
   "hash": "af51f29a878ae3a8f8e9f6c4ebe8e1dfd1996d87171925dc7d5b6a703abf9b9c"
  },
  "kernelspec": {
   "display_name": "Python 3.7.10 ('pytorch-dl')",
   "language": "python",
   "name": "python3"
  },
  "language_info": {
   "codemirror_mode": {
    "name": "ipython",
    "version": 3
   },
   "file_extension": ".py",
   "mimetype": "text/x-python",
   "name": "python",
   "nbconvert_exporter": "python",
   "pygments_lexer": "ipython3",
   "version": "3.7.10"
  },
  "orig_nbformat": 4
 },
 "nbformat": 4,
 "nbformat_minor": 2
}
